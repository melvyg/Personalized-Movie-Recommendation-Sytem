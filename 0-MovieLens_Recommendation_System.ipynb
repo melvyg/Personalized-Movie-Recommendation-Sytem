{
 "cells": [
  {
   "cell_type": "markdown",
   "metadata": {},
   "source": [
    "# Exploratory Data Analysis"
   ]
  },
  {
   "cell_type": "markdown",
   "metadata": {},
   "source": [
    "## Data Preview"
   ]
  },
  {
   "cell_type": "code",
   "execution_count": 1,
   "metadata": {
    "ExecuteTime": {
     "end_time": "2021-09-08T03:07:09.093880Z",
     "start_time": "2021-09-08T03:07:03.865907Z"
    }
   },
   "outputs": [],
   "source": [
    "# Import Dependencies\n",
    "import pandas as pd\n",
    "import numpy as np\n",
    "\n",
    "# Data visualization\n",
    "import matplotlib.pyplot as plt\n",
    "import seaborn as sns\n",
    "\n",
    "# Model Evaluation\n",
    "from sklearn.model_selection import train_test_split\n",
    "from sklearn.metrics import mean_squared_error\n",
    "\n",
    "# Recommendation\n",
    "from surprise.prediction_algorithms import knns, SVD\n",
    "from surprise.similarities import cosine, msd, pearson\n",
    "from surprise import accuracy, Dataset, Reader, KNNBasic\n",
    "from surprise.model_selection import cross_validate, GridSearchCV\n",
    "\n",
    "from sklearn.feature_extraction.text import TfidfVectorizer\n",
    "from sklearn.metrics.pairwise import linear_kernel\n",
    "\n",
    "import warnings\n",
    "warnings.filterwarnings('ignore')"
   ]
  },
  {
   "cell_type": "code",
   "execution_count": 2,
   "metadata": {
    "ExecuteTime": {
     "end_time": "2021-09-08T03:07:09.296388Z",
     "start_time": "2021-09-08T03:07:09.096198Z"
    }
   },
   "outputs": [],
   "source": [
    "# Load data\n",
    "links_df = pd.read_csv('1-data/links.csv')\n",
    "movies_df = pd.read_csv('1-data/movies.csv')\n",
    "ratings_df = pd.read_csv('1-data/ratings.csv')\n",
    "tags_df = pd.read_csv('1-data/tags.csv')"
   ]
  },
  {
   "cell_type": "code",
   "execution_count": 3,
   "metadata": {
    "ExecuteTime": {
     "end_time": "2021-09-08T03:07:09.336989Z",
     "start_time": "2021-09-08T03:07:09.301512Z"
    }
   },
   "outputs": [
    {
     "data": {
      "text/html": [
       "<div>\n",
       "<style scoped>\n",
       "    .dataframe tbody tr th:only-of-type {\n",
       "        vertical-align: middle;\n",
       "    }\n",
       "\n",
       "    .dataframe tbody tr th {\n",
       "        vertical-align: top;\n",
       "    }\n",
       "\n",
       "    .dataframe thead th {\n",
       "        text-align: right;\n",
       "    }\n",
       "</style>\n",
       "<table border=\"1\" class=\"dataframe\">\n",
       "  <thead>\n",
       "    <tr style=\"text-align: right;\">\n",
       "      <th></th>\n",
       "      <th>movieId</th>\n",
       "      <th>imdbId</th>\n",
       "      <th>tmdbId</th>\n",
       "    </tr>\n",
       "  </thead>\n",
       "  <tbody>\n",
       "    <tr>\n",
       "      <th>0</th>\n",
       "      <td>1</td>\n",
       "      <td>114709</td>\n",
       "      <td>862.0</td>\n",
       "    </tr>\n",
       "    <tr>\n",
       "      <th>1</th>\n",
       "      <td>2</td>\n",
       "      <td>113497</td>\n",
       "      <td>8844.0</td>\n",
       "    </tr>\n",
       "    <tr>\n",
       "      <th>2</th>\n",
       "      <td>3</td>\n",
       "      <td>113228</td>\n",
       "      <td>15602.0</td>\n",
       "    </tr>\n",
       "    <tr>\n",
       "      <th>3</th>\n",
       "      <td>4</td>\n",
       "      <td>114885</td>\n",
       "      <td>31357.0</td>\n",
       "    </tr>\n",
       "    <tr>\n",
       "      <th>4</th>\n",
       "      <td>5</td>\n",
       "      <td>113041</td>\n",
       "      <td>11862.0</td>\n",
       "    </tr>\n",
       "  </tbody>\n",
       "</table>\n",
       "</div>"
      ],
      "text/plain": [
       "   movieId  imdbId   tmdbId\n",
       "0        1  114709    862.0\n",
       "1        2  113497   8844.0\n",
       "2        3  113228  15602.0\n",
       "3        4  114885  31357.0\n",
       "4        5  113041  11862.0"
      ]
     },
     "execution_count": 3,
     "metadata": {},
     "output_type": "execute_result"
    }
   ],
   "source": [
    "# Peek head of each df\n",
    "links_df.head()"
   ]
  },
  {
   "cell_type": "code",
   "execution_count": 4,
   "metadata": {
    "ExecuteTime": {
     "end_time": "2021-09-08T03:07:09.362510Z",
     "start_time": "2021-09-08T03:07:09.341540Z"
    }
   },
   "outputs": [
    {
     "data": {
      "text/html": [
       "<div>\n",
       "<style scoped>\n",
       "    .dataframe tbody tr th:only-of-type {\n",
       "        vertical-align: middle;\n",
       "    }\n",
       "\n",
       "    .dataframe tbody tr th {\n",
       "        vertical-align: top;\n",
       "    }\n",
       "\n",
       "    .dataframe thead th {\n",
       "        text-align: right;\n",
       "    }\n",
       "</style>\n",
       "<table border=\"1\" class=\"dataframe\">\n",
       "  <thead>\n",
       "    <tr style=\"text-align: right;\">\n",
       "      <th></th>\n",
       "      <th>movieId</th>\n",
       "      <th>title</th>\n",
       "      <th>genres</th>\n",
       "    </tr>\n",
       "  </thead>\n",
       "  <tbody>\n",
       "    <tr>\n",
       "      <th>0</th>\n",
       "      <td>1</td>\n",
       "      <td>Toy Story (1995)</td>\n",
       "      <td>Adventure|Animation|Children|Comedy|Fantasy</td>\n",
       "    </tr>\n",
       "    <tr>\n",
       "      <th>1</th>\n",
       "      <td>2</td>\n",
       "      <td>Jumanji (1995)</td>\n",
       "      <td>Adventure|Children|Fantasy</td>\n",
       "    </tr>\n",
       "    <tr>\n",
       "      <th>2</th>\n",
       "      <td>3</td>\n",
       "      <td>Grumpier Old Men (1995)</td>\n",
       "      <td>Comedy|Romance</td>\n",
       "    </tr>\n",
       "    <tr>\n",
       "      <th>3</th>\n",
       "      <td>4</td>\n",
       "      <td>Waiting to Exhale (1995)</td>\n",
       "      <td>Comedy|Drama|Romance</td>\n",
       "    </tr>\n",
       "    <tr>\n",
       "      <th>4</th>\n",
       "      <td>5</td>\n",
       "      <td>Father of the Bride Part II (1995)</td>\n",
       "      <td>Comedy</td>\n",
       "    </tr>\n",
       "  </tbody>\n",
       "</table>\n",
       "</div>"
      ],
      "text/plain": [
       "   movieId                               title  \\\n",
       "0        1                    Toy Story (1995)   \n",
       "1        2                      Jumanji (1995)   \n",
       "2        3             Grumpier Old Men (1995)   \n",
       "3        4            Waiting to Exhale (1995)   \n",
       "4        5  Father of the Bride Part II (1995)   \n",
       "\n",
       "                                        genres  \n",
       "0  Adventure|Animation|Children|Comedy|Fantasy  \n",
       "1                   Adventure|Children|Fantasy  \n",
       "2                               Comedy|Romance  \n",
       "3                         Comedy|Drama|Romance  \n",
       "4                                       Comedy  "
      ]
     },
     "execution_count": 4,
     "metadata": {},
     "output_type": "execute_result"
    }
   ],
   "source": [
    "movies_df.head()"
   ]
  },
  {
   "cell_type": "code",
   "execution_count": 5,
   "metadata": {
    "ExecuteTime": {
     "end_time": "2021-09-08T03:07:09.390673Z",
     "start_time": "2021-09-08T03:07:09.364427Z"
    }
   },
   "outputs": [
    {
     "data": {
      "text/html": [
       "<div>\n",
       "<style scoped>\n",
       "    .dataframe tbody tr th:only-of-type {\n",
       "        vertical-align: middle;\n",
       "    }\n",
       "\n",
       "    .dataframe tbody tr th {\n",
       "        vertical-align: top;\n",
       "    }\n",
       "\n",
       "    .dataframe thead th {\n",
       "        text-align: right;\n",
       "    }\n",
       "</style>\n",
       "<table border=\"1\" class=\"dataframe\">\n",
       "  <thead>\n",
       "    <tr style=\"text-align: right;\">\n",
       "      <th></th>\n",
       "      <th>userId</th>\n",
       "      <th>movieId</th>\n",
       "      <th>rating</th>\n",
       "      <th>timestamp</th>\n",
       "    </tr>\n",
       "  </thead>\n",
       "  <tbody>\n",
       "    <tr>\n",
       "      <th>0</th>\n",
       "      <td>1</td>\n",
       "      <td>1</td>\n",
       "      <td>4.0</td>\n",
       "      <td>964982703</td>\n",
       "    </tr>\n",
       "    <tr>\n",
       "      <th>1</th>\n",
       "      <td>1</td>\n",
       "      <td>3</td>\n",
       "      <td>4.0</td>\n",
       "      <td>964981247</td>\n",
       "    </tr>\n",
       "    <tr>\n",
       "      <th>2</th>\n",
       "      <td>1</td>\n",
       "      <td>6</td>\n",
       "      <td>4.0</td>\n",
       "      <td>964982224</td>\n",
       "    </tr>\n",
       "    <tr>\n",
       "      <th>3</th>\n",
       "      <td>1</td>\n",
       "      <td>47</td>\n",
       "      <td>5.0</td>\n",
       "      <td>964983815</td>\n",
       "    </tr>\n",
       "    <tr>\n",
       "      <th>4</th>\n",
       "      <td>1</td>\n",
       "      <td>50</td>\n",
       "      <td>5.0</td>\n",
       "      <td>964982931</td>\n",
       "    </tr>\n",
       "  </tbody>\n",
       "</table>\n",
       "</div>"
      ],
      "text/plain": [
       "   userId  movieId  rating  timestamp\n",
       "0       1        1     4.0  964982703\n",
       "1       1        3     4.0  964981247\n",
       "2       1        6     4.0  964982224\n",
       "3       1       47     5.0  964983815\n",
       "4       1       50     5.0  964982931"
      ]
     },
     "execution_count": 5,
     "metadata": {},
     "output_type": "execute_result"
    }
   ],
   "source": [
    "ratings_df.head()"
   ]
  },
  {
   "cell_type": "code",
   "execution_count": 6,
   "metadata": {
    "ExecuteTime": {
     "end_time": "2021-09-08T03:07:09.416614Z",
     "start_time": "2021-09-08T03:07:09.394817Z"
    }
   },
   "outputs": [
    {
     "data": {
      "text/html": [
       "<div>\n",
       "<style scoped>\n",
       "    .dataframe tbody tr th:only-of-type {\n",
       "        vertical-align: middle;\n",
       "    }\n",
       "\n",
       "    .dataframe tbody tr th {\n",
       "        vertical-align: top;\n",
       "    }\n",
       "\n",
       "    .dataframe thead th {\n",
       "        text-align: right;\n",
       "    }\n",
       "</style>\n",
       "<table border=\"1\" class=\"dataframe\">\n",
       "  <thead>\n",
       "    <tr style=\"text-align: right;\">\n",
       "      <th></th>\n",
       "      <th>userId</th>\n",
       "      <th>movieId</th>\n",
       "      <th>tag</th>\n",
       "      <th>timestamp</th>\n",
       "    </tr>\n",
       "  </thead>\n",
       "  <tbody>\n",
       "    <tr>\n",
       "      <th>0</th>\n",
       "      <td>2</td>\n",
       "      <td>60756</td>\n",
       "      <td>funny</td>\n",
       "      <td>1445714994</td>\n",
       "    </tr>\n",
       "    <tr>\n",
       "      <th>1</th>\n",
       "      <td>2</td>\n",
       "      <td>60756</td>\n",
       "      <td>Highly quotable</td>\n",
       "      <td>1445714996</td>\n",
       "    </tr>\n",
       "    <tr>\n",
       "      <th>2</th>\n",
       "      <td>2</td>\n",
       "      <td>60756</td>\n",
       "      <td>will ferrell</td>\n",
       "      <td>1445714992</td>\n",
       "    </tr>\n",
       "    <tr>\n",
       "      <th>3</th>\n",
       "      <td>2</td>\n",
       "      <td>89774</td>\n",
       "      <td>Boxing story</td>\n",
       "      <td>1445715207</td>\n",
       "    </tr>\n",
       "    <tr>\n",
       "      <th>4</th>\n",
       "      <td>2</td>\n",
       "      <td>89774</td>\n",
       "      <td>MMA</td>\n",
       "      <td>1445715200</td>\n",
       "    </tr>\n",
       "  </tbody>\n",
       "</table>\n",
       "</div>"
      ],
      "text/plain": [
       "   userId  movieId              tag   timestamp\n",
       "0       2    60756            funny  1445714994\n",
       "1       2    60756  Highly quotable  1445714996\n",
       "2       2    60756     will ferrell  1445714992\n",
       "3       2    89774     Boxing story  1445715207\n",
       "4       2    89774              MMA  1445715200"
      ]
     },
     "execution_count": 6,
     "metadata": {},
     "output_type": "execute_result"
    }
   ],
   "source": [
    "tags_df.head()"
   ]
  },
  {
   "cell_type": "markdown",
   "metadata": {
    "ExecuteTime": {
     "end_time": "2021-08-21T00:19:12.726767Z",
     "start_time": "2021-08-21T00:19:12.705835Z"
    }
   },
   "source": [
    "## Merge datasets"
   ]
  },
  {
   "cell_type": "markdown",
   "metadata": {},
   "source": [
    "At the moment, the data is imported from disparate tables / files. In this next step, let's focus on the user rating and movies dataframe and merge them into a single dataframe to set up for our recommendation system. For now we can set aside tags and links df.\n",
    "\n",
    "Below are some noted observations about the MovieLens data.\n",
    "- Tags are user-generated metadata about movies. Each tag is typically a single word or short phrase. The meaning, value, and purpose of a particular tag is determined by each user.\n",
    "- Ratings are made on a 5-star scale, with half-star increments (0.5 stars - 5.0 stars).\n",
    "- Timestamps represent seconds since midnight Coordinated Universal Time (UTC) of January 1, 1970.\n",
    "- Genres are pipe separated\n",
    "- Our links dataframe contains external information to IMDB and MovieDB information, but since we are focused on building a collaborative filter for the time bring, we do not require this information"
   ]
  },
  {
   "cell_type": "code",
   "execution_count": 7,
   "metadata": {
    "ExecuteTime": {
     "end_time": "2021-09-08T03:07:09.488760Z",
     "start_time": "2021-09-08T03:07:09.420880Z"
    }
   },
   "outputs": [
    {
     "name": "stdout",
     "output_type": "stream",
     "text": [
      "movies_df shape (9742, 3)\n",
      "ratings_df shape (100836, 4)\n",
      "movieRatings_df (100854, 6)\n"
     ]
    }
   ],
   "source": [
    "movieRatings_df = pd.merge( movies_df, ratings_df, how='left', on='movieId' )\n",
    "\n",
    "# Observe for any data loss during merge\n",
    "print(f'movies_df shape {movies_df.shape}')\n",
    "print(f'ratings_df shape {ratings_df.shape}')\n",
    "print(f'movieRatings_df {movieRatings_df.shape}')"
   ]
  },
  {
   "cell_type": "code",
   "execution_count": 8,
   "metadata": {
    "ExecuteTime": {
     "end_time": "2021-09-08T03:07:09.531080Z",
     "start_time": "2021-09-08T03:07:09.496604Z"
    }
   },
   "outputs": [
    {
     "data": {
      "text/html": [
       "<div>\n",
       "<style scoped>\n",
       "    .dataframe tbody tr th:only-of-type {\n",
       "        vertical-align: middle;\n",
       "    }\n",
       "\n",
       "    .dataframe tbody tr th {\n",
       "        vertical-align: top;\n",
       "    }\n",
       "\n",
       "    .dataframe thead th {\n",
       "        text-align: right;\n",
       "    }\n",
       "</style>\n",
       "<table border=\"1\" class=\"dataframe\">\n",
       "  <thead>\n",
       "    <tr style=\"text-align: right;\">\n",
       "      <th></th>\n",
       "      <th>movieId</th>\n",
       "      <th>title</th>\n",
       "      <th>genres</th>\n",
       "      <th>userId</th>\n",
       "      <th>rating</th>\n",
       "      <th>timestamp</th>\n",
       "    </tr>\n",
       "  </thead>\n",
       "  <tbody>\n",
       "    <tr>\n",
       "      <th>0</th>\n",
       "      <td>1</td>\n",
       "      <td>Toy Story (1995)</td>\n",
       "      <td>Adventure|Animation|Children|Comedy|Fantasy</td>\n",
       "      <td>1.0</td>\n",
       "      <td>4.0</td>\n",
       "      <td>9.649827e+08</td>\n",
       "    </tr>\n",
       "    <tr>\n",
       "      <th>1</th>\n",
       "      <td>1</td>\n",
       "      <td>Toy Story (1995)</td>\n",
       "      <td>Adventure|Animation|Children|Comedy|Fantasy</td>\n",
       "      <td>5.0</td>\n",
       "      <td>4.0</td>\n",
       "      <td>8.474350e+08</td>\n",
       "    </tr>\n",
       "    <tr>\n",
       "      <th>2</th>\n",
       "      <td>1</td>\n",
       "      <td>Toy Story (1995)</td>\n",
       "      <td>Adventure|Animation|Children|Comedy|Fantasy</td>\n",
       "      <td>7.0</td>\n",
       "      <td>4.5</td>\n",
       "      <td>1.106636e+09</td>\n",
       "    </tr>\n",
       "    <tr>\n",
       "      <th>3</th>\n",
       "      <td>1</td>\n",
       "      <td>Toy Story (1995)</td>\n",
       "      <td>Adventure|Animation|Children|Comedy|Fantasy</td>\n",
       "      <td>15.0</td>\n",
       "      <td>2.5</td>\n",
       "      <td>1.510578e+09</td>\n",
       "    </tr>\n",
       "    <tr>\n",
       "      <th>4</th>\n",
       "      <td>1</td>\n",
       "      <td>Toy Story (1995)</td>\n",
       "      <td>Adventure|Animation|Children|Comedy|Fantasy</td>\n",
       "      <td>17.0</td>\n",
       "      <td>4.5</td>\n",
       "      <td>1.305696e+09</td>\n",
       "    </tr>\n",
       "  </tbody>\n",
       "</table>\n",
       "</div>"
      ],
      "text/plain": [
       "   movieId             title                                       genres  \\\n",
       "0        1  Toy Story (1995)  Adventure|Animation|Children|Comedy|Fantasy   \n",
       "1        1  Toy Story (1995)  Adventure|Animation|Children|Comedy|Fantasy   \n",
       "2        1  Toy Story (1995)  Adventure|Animation|Children|Comedy|Fantasy   \n",
       "3        1  Toy Story (1995)  Adventure|Animation|Children|Comedy|Fantasy   \n",
       "4        1  Toy Story (1995)  Adventure|Animation|Children|Comedy|Fantasy   \n",
       "\n",
       "   userId  rating     timestamp  \n",
       "0     1.0     4.0  9.649827e+08  \n",
       "1     5.0     4.0  8.474350e+08  \n",
       "2     7.0     4.5  1.106636e+09  \n",
       "3    15.0     2.5  1.510578e+09  \n",
       "4    17.0     4.5  1.305696e+09  "
      ]
     },
     "execution_count": 8,
     "metadata": {},
     "output_type": "execute_result"
    }
   ],
   "source": [
    "movieRatings_df.head()"
   ]
  },
  {
   "cell_type": "markdown",
   "metadata": {},
   "source": [
    "We see now that we have duplicate values between movieId, title and genres since there are multiple users ratings the same movie. \n",
    "\n",
    "In upcoming steps, we will aim to create a matrix of the user (m) and movieId (n) -- m x n and so we will not concern ourselves with the duplication we are seeing currently. "
   ]
  },
  {
   "cell_type": "markdown",
   "metadata": {},
   "source": [
    "Regarding the timestamp, we are not really concerned about the time in which the ratings were given and so we will drop this column."
   ]
  },
  {
   "cell_type": "code",
   "execution_count": 9,
   "metadata": {
    "ExecuteTime": {
     "end_time": "2021-09-08T03:07:09.576806Z",
     "start_time": "2021-09-08T03:07:09.539308Z"
    }
   },
   "outputs": [
    {
     "data": {
      "text/html": [
       "<div>\n",
       "<style scoped>\n",
       "    .dataframe tbody tr th:only-of-type {\n",
       "        vertical-align: middle;\n",
       "    }\n",
       "\n",
       "    .dataframe tbody tr th {\n",
       "        vertical-align: top;\n",
       "    }\n",
       "\n",
       "    .dataframe thead th {\n",
       "        text-align: right;\n",
       "    }\n",
       "</style>\n",
       "<table border=\"1\" class=\"dataframe\">\n",
       "  <thead>\n",
       "    <tr style=\"text-align: right;\">\n",
       "      <th></th>\n",
       "      <th>movieId</th>\n",
       "      <th>userId</th>\n",
       "      <th>rating</th>\n",
       "    </tr>\n",
       "  </thead>\n",
       "  <tbody>\n",
       "    <tr>\n",
       "      <th>0</th>\n",
       "      <td>1</td>\n",
       "      <td>1.0</td>\n",
       "      <td>4.0</td>\n",
       "    </tr>\n",
       "    <tr>\n",
       "      <th>1</th>\n",
       "      <td>1</td>\n",
       "      <td>5.0</td>\n",
       "      <td>4.0</td>\n",
       "    </tr>\n",
       "    <tr>\n",
       "      <th>2</th>\n",
       "      <td>1</td>\n",
       "      <td>7.0</td>\n",
       "      <td>4.5</td>\n",
       "    </tr>\n",
       "    <tr>\n",
       "      <th>3</th>\n",
       "      <td>1</td>\n",
       "      <td>15.0</td>\n",
       "      <td>2.5</td>\n",
       "    </tr>\n",
       "    <tr>\n",
       "      <th>4</th>\n",
       "      <td>1</td>\n",
       "      <td>17.0</td>\n",
       "      <td>4.5</td>\n",
       "    </tr>\n",
       "  </tbody>\n",
       "</table>\n",
       "</div>"
      ],
      "text/plain": [
       "   movieId  userId  rating\n",
       "0        1     1.0     4.0\n",
       "1        1     5.0     4.0\n",
       "2        1     7.0     4.5\n",
       "3        1    15.0     2.5\n",
       "4        1    17.0     4.5"
      ]
     },
     "execution_count": 9,
     "metadata": {},
     "output_type": "execute_result"
    }
   ],
   "source": [
    "# Drop timestamp column from movieRatings_df\n",
    "movieRatings_df.drop(['timestamp','title','genres'],axis=1,inplace=True)\n",
    "\n",
    "# Peek data\n",
    "movieRatings_df.head()"
   ]
  },
  {
   "cell_type": "code",
   "execution_count": 10,
   "metadata": {
    "ExecuteTime": {
     "end_time": "2021-09-08T03:07:09.993843Z",
     "start_time": "2021-09-08T03:07:09.580791Z"
    }
   },
   "outputs": [
    {
     "data": {
      "image/png": "[encoded data removed]",
      "text/plain": [
       "<Figure size 864x432 with 1 Axes>"
      ]
     },
     "metadata": {
      "needs_background": "light"
     },
     "output_type": "display_data"
    }
   ],
   "source": [
    "# Observe distribution of ratings\n",
    "movieRatings_df.rating.hist(figsize=(12,6))\n",
    "plt.title('MovieLens Ratings Distribution')\n",
    "plt.ylabel('Ratings Count')\n",
    "plt.xlabel('Movie Rating');"
   ]
  },
  {
   "cell_type": "code",
   "execution_count": 11,
   "metadata": {
    "ExecuteTime": {
     "end_time": "2021-09-08T03:07:10.020663Z",
     "start_time": "2021-09-08T03:07:10.000213Z"
    }
   },
   "outputs": [
    {
     "name": "stdout",
     "output_type": "stream",
     "text": [
      "[4.  4.5 2.5 3.5 3.  5.  0.5 2.  1.5 1.  nan]\n"
     ]
    }
   ],
   "source": [
    "print(movieRatings_df.rating.unique())"
   ]
  },
  {
   "cell_type": "markdown",
   "metadata": {},
   "source": [
    "# Training and test sets\n",
    "\n",
    "For our recommendation system, we will use the collaborative filtering method to make predictions about the interest of a user by analyzing the preferences or ratings from many users on the aggregate level.\n",
    "\n",
    "The range of ratings of movies is between 0.5 - 5. Our aim is to predict the rating, given a user and a movie. Since the ratings can take on ten discrete values we are able to model this as a regression problem."
   ]
  },
  {
   "cell_type": "code",
   "execution_count": 12,
   "metadata": {
    "ExecuteTime": {
     "end_time": "2021-09-08T03:07:10.063709Z",
     "start_time": "2021-09-08T03:07:10.022269Z"
    }
   },
   "outputs": [],
   "source": [
    "movieRatings_df.dropna(inplace=True)"
   ]
  },
  {
   "cell_type": "code",
   "execution_count": 13,
   "metadata": {
    "ExecuteTime": {
     "end_time": "2021-09-08T03:07:10.102290Z",
     "start_time": "2021-09-08T03:07:10.068583Z"
    }
   },
   "outputs": [
    {
     "data": {
      "text/html": [
       "<div>\n",
       "<style scoped>\n",
       "    .dataframe tbody tr th:only-of-type {\n",
       "        vertical-align: middle;\n",
       "    }\n",
       "\n",
       "    .dataframe tbody tr th {\n",
       "        vertical-align: top;\n",
       "    }\n",
       "\n",
       "    .dataframe thead th {\n",
       "        text-align: right;\n",
       "    }\n",
       "</style>\n",
       "<table border=\"1\" class=\"dataframe\">\n",
       "  <thead>\n",
       "    <tr style=\"text-align: right;\">\n",
       "      <th></th>\n",
       "      <th>movieId</th>\n",
       "      <th>userId</th>\n",
       "      <th>rating</th>\n",
       "    </tr>\n",
       "  </thead>\n",
       "  <tbody>\n",
       "    <tr>\n",
       "      <th>0</th>\n",
       "      <td>1</td>\n",
       "      <td>1.0</td>\n",
       "      <td>4.0</td>\n",
       "    </tr>\n",
       "    <tr>\n",
       "      <th>1</th>\n",
       "      <td>1</td>\n",
       "      <td>5.0</td>\n",
       "      <td>4.0</td>\n",
       "    </tr>\n",
       "    <tr>\n",
       "      <th>2</th>\n",
       "      <td>1</td>\n",
       "      <td>7.0</td>\n",
       "      <td>4.5</td>\n",
       "    </tr>\n",
       "    <tr>\n",
       "      <th>3</th>\n",
       "      <td>1</td>\n",
       "      <td>15.0</td>\n",
       "      <td>2.5</td>\n",
       "    </tr>\n",
       "    <tr>\n",
       "      <th>4</th>\n",
       "      <td>1</td>\n",
       "      <td>17.0</td>\n",
       "      <td>4.5</td>\n",
       "    </tr>\n",
       "  </tbody>\n",
       "</table>\n",
       "</div>"
      ],
      "text/plain": [
       "   movieId  userId  rating\n",
       "0        1     1.0     4.0\n",
       "1        1     5.0     4.0\n",
       "2        1     7.0     4.5\n",
       "3        1    15.0     2.5\n",
       "4        1    17.0     4.5"
      ]
     },
     "execution_count": 13,
     "metadata": {},
     "output_type": "execute_result"
    }
   ],
   "source": [
    "movieRatings_df.head()"
   ]
  },
  {
   "cell_type": "code",
   "execution_count": 120,
   "metadata": {
    "ExecuteTime": {
     "end_time": "2021-09-09T14:47:09.540541Z",
     "start_time": "2021-09-09T14:47:09.358498Z"
    }
   },
   "outputs": [],
   "source": [
    "# Assign X and y movieRatings_df\n",
    "X = movieRatings_df.copy()\n",
    "y = movieRatings_df['userId']\n",
    "\n",
    "# Split into training and test datasets\n",
    "X_train, X_test, y_train, y_test = train_test_split(X,y,test_size=0.33, stratify=y)"
   ]
  },
  {
   "cell_type": "markdown",
   "metadata": {
    "ExecuteTime": {
     "end_time": "2021-08-22T03:59:19.299716Z",
     "start_time": "2021-08-22T03:59:19.274750Z"
    }
   },
   "source": [
    "# Collaborative Filtering\n",
    "With our collaborative filter models, we will take a userId and a movieId and output a rating between 0.5 and 5."
   ]
  },
  {
   "cell_type": "markdown",
   "metadata": {},
   "source": [
    "# Collaborative Filtering Methods\n",
    "\n",
    "Simple\n",
    "- Mean\n",
    "- Weighted Mean\n",
    "\n",
    "Memory Based (Neighborhood Based)\n",
    "Using different types of similarities (cosine, msd, pearson)\n",
    "- Item-based Collaborative Filtering\n",
    "- User-based Collaborative Filtering\n",
    "\n",
    "Model Based (Simon Funk's SVD)"
   ]
  },
  {
   "cell_type": "markdown",
   "metadata": {
    "ExecuteTime": {
     "end_time": "2021-08-28T20:02:44.120909Z",
     "start_time": "2021-08-28T20:02:44.106911Z"
    }
   },
   "source": [
    "## Memory based CF Models"
   ]
  },
  {
   "cell_type": "markdown",
   "metadata": {},
   "source": [
    "## Baseline model\n",
    "\n",
    "We will define a baseline collaborative filter model which will return a rating of 3 regardless of userId or movieId. "
   ]
  },
  {
   "cell_type": "code",
   "execution_count": 15,
   "metadata": {
    "ExecuteTime": {
     "end_time": "2021-09-08T03:07:10.304014Z",
     "start_time": "2021-09-08T03:07:10.292025Z"
    }
   },
   "outputs": [],
   "source": [
    "def baseline_model(userId, movieId):\n",
    "    \"\"\"\n",
    "    Params: userId int; movieId int\n",
    "    \n",
    "    Return movie rating\n",
    "    \"\"\"\n",
    "    return 3.0"
   ]
  },
  {
   "cell_type": "code",
   "execution_count": 16,
   "metadata": {
    "ExecuteTime": {
     "end_time": "2021-09-08T03:07:10.317624Z",
     "start_time": "2021-09-08T03:07:10.304014Z"
    }
   },
   "outputs": [],
   "source": [
    "def rmse_score(y_true, y_pred):\n",
    "    \"\"\"\n",
    "    Params: y_true; array of true values\n",
    "            y_pred; array of predicted values\n",
    "    \n",
    "    Return root mean square error to evaluate model\n",
    "    \"\"\"\n",
    "    return np.sqrt( mean_squared_error(y_true,y_pred) )"
   ]
  },
  {
   "cell_type": "code",
   "execution_count": 121,
   "metadata": {
    "ExecuteTime": {
     "end_time": "2021-09-09T14:47:22.625660Z",
     "start_time": "2021-09-09T14:47:22.613722Z"
    }
   },
   "outputs": [],
   "source": [
    "# Construct list of user-move tuples from testing set\n",
    "userMovie_pairs = zip(X_test['userId'],X_test['movieId'])"
   ]
  },
  {
   "cell_type": "code",
   "execution_count": 122,
   "metadata": {
    "ExecuteTime": {
     "end_time": "2021-09-09T14:47:25.165533Z",
     "start_time": "2021-09-09T14:47:25.086308Z"
    }
   },
   "outputs": [],
   "source": [
    "# Predict using baseline model -- for baseline model, return 3 as prediction\n",
    "y_pred = np.array( [ baseline_model(user, movie) for (user,movie) in userMovie_pairs ] )"
   ]
  },
  {
   "cell_type": "code",
   "execution_count": 123,
   "metadata": {
    "ExecuteTime": {
     "end_time": "2021-09-09T14:47:27.664158Z",
     "start_time": "2021-09-09T14:47:27.652012Z"
    }
   },
   "outputs": [
    {
     "name": "stdout",
     "output_type": "stream",
     "text": [
      "Baseline Collaborative Filter RMSE Score: 1.1551233757580803\n"
     ]
    }
   ],
   "source": [
    "# Score baseline model\n",
    "y_true = np.array(X_test['rating'])\n",
    "\n",
    "baselineCF_score = rmse_score(y_true,y_pred)\n",
    "\n",
    "print(f'Baseline Collaborative Filter RMSE Score: {baselineCF_score}')"
   ]
  },
  {
   "cell_type": "code",
   "execution_count": 124,
   "metadata": {
    "ExecuteTime": {
     "end_time": "2021-09-09T14:47:29.965596Z",
     "start_time": "2021-09-09T14:47:29.935469Z"
    }
   },
   "outputs": [
    {
     "data": {
      "text/html": [
       "<div>\n",
       "<style scoped>\n",
       "    .dataframe tbody tr th:only-of-type {\n",
       "        vertical-align: middle;\n",
       "    }\n",
       "\n",
       "    .dataframe tbody tr th {\n",
       "        vertical-align: top;\n",
       "    }\n",
       "\n",
       "    .dataframe thead th {\n",
       "        text-align: right;\n",
       "    }\n",
       "</style>\n",
       "<table border=\"1\" class=\"dataframe\">\n",
       "  <thead>\n",
       "    <tr style=\"text-align: right;\">\n",
       "      <th></th>\n",
       "      <th>test_rmse</th>\n",
       "      <th>fit_time</th>\n",
       "      <th>test_time</th>\n",
       "      <th>model</th>\n",
       "    </tr>\n",
       "  </thead>\n",
       "  <tbody>\n",
       "    <tr>\n",
       "      <th>0</th>\n",
       "      <td>1.155123</td>\n",
       "      <td>None</td>\n",
       "      <td>None</td>\n",
       "      <td>Baseline Model</td>\n",
       "    </tr>\n",
       "  </tbody>\n",
       "</table>\n",
       "</div>"
      ],
      "text/plain": [
       "   test_rmse fit_time test_time           model\n",
       "0   1.155123     None      None  Baseline Model"
      ]
     },
     "execution_count": 124,
     "metadata": {},
     "output_type": "execute_result"
    }
   ],
   "source": [
    "# Save baseline model to concat and compare with other model results\n",
    "baselineModel_df = pd.DataFrame( {'test_rmse':[baselineCF_score],\n",
    "                    'fit_time':[None],\n",
    "                    'test_time':[None],\n",
    "                    'model':['Baseline Model']} )\n",
    "\n",
    "baselineModel_df"
   ]
  },
  {
   "cell_type": "markdown",
   "metadata": {},
   "source": [
    "Our baseline collaborative model RMSE score is 1.15.\n",
    "\n",
    "In subsequent models, we will aim to score an RMSE score below 1.15."
   ]
  },
  {
   "cell_type": "markdown",
   "metadata": {},
   "source": [
    "### Simple Mean Collaborative Filters"
   ]
  },
  {
   "cell_type": "markdown",
   "metadata": {},
   "source": [
    "Here we will taking in the userId and movieId and output the mean rating for the movie by all users who have rated it. The rating of each user is assigned equal weight.\n",
    "\n",
    "In the case that movies are available in the test set and not training set, we will default to assigning a rating of 3.0"
   ]
  },
  {
   "cell_type": "markdown",
   "metadata": {},
   "source": [
    "### Build Matrix"
   ]
  },
  {
   "cell_type": "code",
   "execution_count": 125,
   "metadata": {
    "ExecuteTime": {
     "end_time": "2021-09-09T14:48:20.734314Z",
     "start_time": "2021-09-09T14:48:20.508638Z"
    }
   },
   "outputs": [
    {
     "data": {
      "text/html": [
       "<div>\n",
       "<style scoped>\n",
       "    .dataframe tbody tr th:only-of-type {\n",
       "        vertical-align: middle;\n",
       "    }\n",
       "\n",
       "    .dataframe tbody tr th {\n",
       "        vertical-align: top;\n",
       "    }\n",
       "\n",
       "    .dataframe thead th {\n",
       "        text-align: right;\n",
       "    }\n",
       "</style>\n",
       "<table border=\"1\" class=\"dataframe\">\n",
       "  <thead>\n",
       "    <tr style=\"text-align: right;\">\n",
       "      <th>movieId</th>\n",
       "      <th>1</th>\n",
       "      <th>2</th>\n",
       "      <th>3</th>\n",
       "      <th>4</th>\n",
       "      <th>5</th>\n",
       "      <th>6</th>\n",
       "      <th>7</th>\n",
       "      <th>8</th>\n",
       "      <th>9</th>\n",
       "      <th>10</th>\n",
       "      <th>...</th>\n",
       "      <th>190209</th>\n",
       "      <th>190213</th>\n",
       "      <th>190219</th>\n",
       "      <th>191005</th>\n",
       "      <th>193567</th>\n",
       "      <th>193573</th>\n",
       "      <th>193579</th>\n",
       "      <th>193581</th>\n",
       "      <th>193583</th>\n",
       "      <th>193585</th>\n",
       "    </tr>\n",
       "    <tr>\n",
       "      <th>userId</th>\n",
       "      <th></th>\n",
       "      <th></th>\n",
       "      <th></th>\n",
       "      <th></th>\n",
       "      <th></th>\n",
       "      <th></th>\n",
       "      <th></th>\n",
       "      <th></th>\n",
       "      <th></th>\n",
       "      <th></th>\n",
       "      <th></th>\n",
       "      <th></th>\n",
       "      <th></th>\n",
       "      <th></th>\n",
       "      <th></th>\n",
       "      <th></th>\n",
       "      <th></th>\n",
       "      <th></th>\n",
       "      <th></th>\n",
       "      <th></th>\n",
       "      <th></th>\n",
       "    </tr>\n",
       "  </thead>\n",
       "  <tbody>\n",
       "    <tr>\n",
       "      <th>1.0</th>\n",
       "      <td>4.0</td>\n",
       "      <td>NaN</td>\n",
       "      <td>NaN</td>\n",
       "      <td>NaN</td>\n",
       "      <td>NaN</td>\n",
       "      <td>4.0</td>\n",
       "      <td>NaN</td>\n",
       "      <td>NaN</td>\n",
       "      <td>NaN</td>\n",
       "      <td>NaN</td>\n",
       "      <td>...</td>\n",
       "      <td>NaN</td>\n",
       "      <td>NaN</td>\n",
       "      <td>NaN</td>\n",
       "      <td>NaN</td>\n",
       "      <td>NaN</td>\n",
       "      <td>NaN</td>\n",
       "      <td>NaN</td>\n",
       "      <td>NaN</td>\n",
       "      <td>NaN</td>\n",
       "      <td>NaN</td>\n",
       "    </tr>\n",
       "    <tr>\n",
       "      <th>2.0</th>\n",
       "      <td>NaN</td>\n",
       "      <td>NaN</td>\n",
       "      <td>NaN</td>\n",
       "      <td>NaN</td>\n",
       "      <td>NaN</td>\n",
       "      <td>NaN</td>\n",
       "      <td>NaN</td>\n",
       "      <td>NaN</td>\n",
       "      <td>NaN</td>\n",
       "      <td>NaN</td>\n",
       "      <td>...</td>\n",
       "      <td>NaN</td>\n",
       "      <td>NaN</td>\n",
       "      <td>NaN</td>\n",
       "      <td>NaN</td>\n",
       "      <td>NaN</td>\n",
       "      <td>NaN</td>\n",
       "      <td>NaN</td>\n",
       "      <td>NaN</td>\n",
       "      <td>NaN</td>\n",
       "      <td>NaN</td>\n",
       "    </tr>\n",
       "    <tr>\n",
       "      <th>3.0</th>\n",
       "      <td>NaN</td>\n",
       "      <td>NaN</td>\n",
       "      <td>NaN</td>\n",
       "      <td>NaN</td>\n",
       "      <td>NaN</td>\n",
       "      <td>NaN</td>\n",
       "      <td>NaN</td>\n",
       "      <td>NaN</td>\n",
       "      <td>NaN</td>\n",
       "      <td>NaN</td>\n",
       "      <td>...</td>\n",
       "      <td>NaN</td>\n",
       "      <td>NaN</td>\n",
       "      <td>NaN</td>\n",
       "      <td>NaN</td>\n",
       "      <td>NaN</td>\n",
       "      <td>NaN</td>\n",
       "      <td>NaN</td>\n",
       "      <td>NaN</td>\n",
       "      <td>NaN</td>\n",
       "      <td>NaN</td>\n",
       "    </tr>\n",
       "    <tr>\n",
       "      <th>4.0</th>\n",
       "      <td>NaN</td>\n",
       "      <td>NaN</td>\n",
       "      <td>NaN</td>\n",
       "      <td>NaN</td>\n",
       "      <td>NaN</td>\n",
       "      <td>NaN</td>\n",
       "      <td>NaN</td>\n",
       "      <td>NaN</td>\n",
       "      <td>NaN</td>\n",
       "      <td>NaN</td>\n",
       "      <td>...</td>\n",
       "      <td>NaN</td>\n",
       "      <td>NaN</td>\n",
       "      <td>NaN</td>\n",
       "      <td>NaN</td>\n",
       "      <td>NaN</td>\n",
       "      <td>NaN</td>\n",
       "      <td>NaN</td>\n",
       "      <td>NaN</td>\n",
       "      <td>NaN</td>\n",
       "      <td>NaN</td>\n",
       "    </tr>\n",
       "    <tr>\n",
       "      <th>5.0</th>\n",
       "      <td>4.0</td>\n",
       "      <td>NaN</td>\n",
       "      <td>NaN</td>\n",
       "      <td>NaN</td>\n",
       "      <td>NaN</td>\n",
       "      <td>NaN</td>\n",
       "      <td>NaN</td>\n",
       "      <td>NaN</td>\n",
       "      <td>NaN</td>\n",
       "      <td>NaN</td>\n",
       "      <td>...</td>\n",
       "      <td>NaN</td>\n",
       "      <td>NaN</td>\n",
       "      <td>NaN</td>\n",
       "      <td>NaN</td>\n",
       "      <td>NaN</td>\n",
       "      <td>NaN</td>\n",
       "      <td>NaN</td>\n",
       "      <td>NaN</td>\n",
       "      <td>NaN</td>\n",
       "      <td>NaN</td>\n",
       "    </tr>\n",
       "  </tbody>\n",
       "</table>\n",
       "<p>5 rows × 8377 columns</p>\n",
       "</div>"
      ],
      "text/plain": [
       "movieId  1       2       3       4       5       6       7       8       \\\n",
       "userId                                                                    \n",
       "1.0         4.0     NaN     NaN     NaN     NaN     4.0     NaN     NaN   \n",
       "2.0         NaN     NaN     NaN     NaN     NaN     NaN     NaN     NaN   \n",
       "3.0         NaN     NaN     NaN     NaN     NaN     NaN     NaN     NaN   \n",
       "4.0         NaN     NaN     NaN     NaN     NaN     NaN     NaN     NaN   \n",
       "5.0         4.0     NaN     NaN     NaN     NaN     NaN     NaN     NaN   \n",
       "\n",
       "movieId  9       10      ...  190209  190213  190219  191005  193567  193573  \\\n",
       "userId                   ...                                                   \n",
       "1.0         NaN     NaN  ...     NaN     NaN     NaN     NaN     NaN     NaN   \n",
       "2.0         NaN     NaN  ...     NaN     NaN     NaN     NaN     NaN     NaN   \n",
       "3.0         NaN     NaN  ...     NaN     NaN     NaN     NaN     NaN     NaN   \n",
       "4.0         NaN     NaN  ...     NaN     NaN     NaN     NaN     NaN     NaN   \n",
       "5.0         NaN     NaN  ...     NaN     NaN     NaN     NaN     NaN     NaN   \n",
       "\n",
       "movieId  193579  193581  193583  193585  \n",
       "userId                                   \n",
       "1.0         NaN     NaN     NaN     NaN  \n",
       "2.0         NaN     NaN     NaN     NaN  \n",
       "3.0         NaN     NaN     NaN     NaN  \n",
       "4.0         NaN     NaN     NaN     NaN  \n",
       "5.0         NaN     NaN     NaN     NaN  \n",
       "\n",
       "[5 rows x 8377 columns]"
      ]
     },
     "execution_count": 125,
     "metadata": {},
     "output_type": "execute_result"
    }
   ],
   "source": [
    "ratings_matrix = X_train.pivot_table(values='rating',index='userId',columns='movieId')\n",
    "\n",
    "ratings_matrix.head()"
   ]
  },
  {
   "cell_type": "code",
   "execution_count": 126,
   "metadata": {
    "ExecuteTime": {
     "end_time": "2021-09-09T14:48:23.416593Z",
     "start_time": "2021-09-09T14:48:23.403575Z"
    }
   },
   "outputs": [],
   "source": [
    "def score(cf_model):\n",
    "    \n",
    "    # Construct a list of user-movie tuples from the testing dataset\n",
    "    id_pairs = zip(X_test['userId'], X_test['movieId'])\n",
    "    \n",
    "    # Predict the rating for every user-movie tuple\n",
    "    y_pred = np.array([cf_model(user, movie) for (user, movie) in id_pairs])\n",
    "    \n",
    "    # Extract the actual ratings given by the users in the test data\n",
    "    y_true = np.array(X_test['rating'])\n",
    "    \n",
    "    # Return the final RMSE score\n",
    "    return rmse_score(y_true, y_pred)"
   ]
  },
  {
   "cell_type": "code",
   "execution_count": 127,
   "metadata": {
    "ExecuteTime": {
     "end_time": "2021-09-09T14:48:25.774481Z",
     "start_time": "2021-09-09T14:48:25.761467Z"
    }
   },
   "outputs": [],
   "source": [
    "def cf_mean_model(userId, movieId):\n",
    "    \n",
    "    # Check if movie_id exists in ratings_matrix\n",
    "    if movieId in ratings_matrix:\n",
    "        # Compute the mean of all the ratings given to given movieId\n",
    "        mean_rating = ratings_matrix[movieId].mean()\n",
    "    \n",
    "    else:\n",
    "        # Default to a rating of 3.0 if no information\n",
    "        mean_rating = 3.0\n",
    "    \n",
    "    return mean_rating"
   ]
  },
  {
   "cell_type": "code",
   "execution_count": 130,
   "metadata": {
    "ExecuteTime": {
     "end_time": "2021-09-09T14:49:19.741835Z",
     "start_time": "2021-09-09T14:49:16.819808Z"
    }
   },
   "outputs": [
    {
     "name": "stdout",
     "output_type": "stream",
     "text": [
      "0.9792776446636204\n"
     ]
    }
   ],
   "source": [
    "# Score cf mean model\n",
    "cf_mean_score = score(cf_mean_model)\n",
    "\n",
    "print(cf_mean_score)"
   ]
  },
  {
   "cell_type": "code",
   "execution_count": 131,
   "metadata": {
    "ExecuteTime": {
     "end_time": "2021-09-09T14:49:21.944727Z",
     "start_time": "2021-09-09T14:49:21.931722Z"
    }
   },
   "outputs": [
    {
     "data": {
      "text/html": [
       "<div>\n",
       "<style scoped>\n",
       "    .dataframe tbody tr th:only-of-type {\n",
       "        vertical-align: middle;\n",
       "    }\n",
       "\n",
       "    .dataframe tbody tr th {\n",
       "        vertical-align: top;\n",
       "    }\n",
       "\n",
       "    .dataframe thead th {\n",
       "        text-align: right;\n",
       "    }\n",
       "</style>\n",
       "<table border=\"1\" class=\"dataframe\">\n",
       "  <thead>\n",
       "    <tr style=\"text-align: right;\">\n",
       "      <th></th>\n",
       "      <th>test_rmse</th>\n",
       "      <th>fit_time</th>\n",
       "      <th>test_time</th>\n",
       "      <th>model</th>\n",
       "    </tr>\n",
       "  </thead>\n",
       "  <tbody>\n",
       "    <tr>\n",
       "      <th>0</th>\n",
       "      <td>0.979278</td>\n",
       "      <td>None</td>\n",
       "      <td>None</td>\n",
       "      <td>Collaborative Filter Simple Mean Model</td>\n",
       "    </tr>\n",
       "  </tbody>\n",
       "</table>\n",
       "</div>"
      ],
      "text/plain": [
       "   test_rmse fit_time test_time                                   model\n",
       "0   0.979278     None      None  Collaborative Filter Simple Mean Model"
      ]
     },
     "execution_count": 131,
     "metadata": {},
     "output_type": "execute_result"
    }
   ],
   "source": [
    "# Save collaborative mean model to concat and compare with other model results\n",
    "cfMeanModel_df = pd.DataFrame( {'test_rmse':[cf_mean_score],\n",
    "                    'fit_time':[None],\n",
    "                    'test_time':[None],\n",
    "                    'model':['Collaborative Filter Simple Mean Model']} )\n",
    "\n",
    "cfMeanModel_df"
   ]
  },
  {
   "cell_type": "markdown",
   "metadata": {},
   "source": [
    "### Simple Memory-Based Method (Neighborhood-Based) CF Model\n",
    "Previously, we created a simple mean user-based collaborative filter model. We will now aim to expand on this idea using similarity metrics such as pearson and cosine to create a CF model that gives more preference or rating weightage to users similar to the user in question than users who are found not be as similar.\n",
    "\n",
    "We will make use of the surprise API for calculating these similarities"
   ]
  },
  {
   "cell_type": "code",
   "execution_count": 132,
   "metadata": {
    "ExecuteTime": {
     "end_time": "2021-09-09T14:49:24.120619Z",
     "start_time": "2021-09-09T14:49:24.104475Z"
    }
   },
   "outputs": [
    {
     "name": "stdout",
     "output_type": "stream",
     "text": [
      "Number of movies: 8377\n",
      "Number of users: 610\n"
     ]
    }
   ],
   "source": [
    "print(f'Number of movies: {len(X_train.movieId.unique())}')\n",
    "print(f'Number of users: {len(X_train.userId.unique())}')"
   ]
  },
  {
   "cell_type": "markdown",
   "metadata": {},
   "source": [
    "Because there are less users than movies, we will configure our model to initially be a user_based model, and calculate user-user similarity"
   ]
  },
  {
   "cell_type": "markdown",
   "metadata": {},
   "source": [
    "### Cosine Similarity\n",
    "We will perform a comparison between cosine and pearson similarity metrics to determine which models to move forward with."
   ]
  },
  {
   "cell_type": "code",
   "execution_count": 133,
   "metadata": {
    "ExecuteTime": {
     "end_time": "2021-09-09T14:49:26.405728Z",
     "start_time": "2021-09-09T14:49:26.389995Z"
    }
   },
   "outputs": [],
   "source": [
    "sim_cos = {'name':'cosine', 'user_based':True}"
   ]
  },
  {
   "cell_type": "code",
   "execution_count": 134,
   "metadata": {
    "ExecuteTime": {
     "end_time": "2021-09-09T14:49:28.581134Z",
     "start_time": "2021-09-09T14:49:28.568136Z"
    }
   },
   "outputs": [
    {
     "data": {
      "text/html": [
       "<div>\n",
       "<style scoped>\n",
       "    .dataframe tbody tr th:only-of-type {\n",
       "        vertical-align: middle;\n",
       "    }\n",
       "\n",
       "    .dataframe tbody tr th {\n",
       "        vertical-align: top;\n",
       "    }\n",
       "\n",
       "    .dataframe thead th {\n",
       "        text-align: right;\n",
       "    }\n",
       "</style>\n",
       "<table border=\"1\" class=\"dataframe\">\n",
       "  <thead>\n",
       "    <tr style=\"text-align: right;\">\n",
       "      <th></th>\n",
       "      <th>movieId</th>\n",
       "      <th>userId</th>\n",
       "      <th>rating</th>\n",
       "    </tr>\n",
       "  </thead>\n",
       "  <tbody>\n",
       "    <tr>\n",
       "      <th>0</th>\n",
       "      <td>1</td>\n",
       "      <td>1.0</td>\n",
       "      <td>4.0</td>\n",
       "    </tr>\n",
       "    <tr>\n",
       "      <th>1</th>\n",
       "      <td>1</td>\n",
       "      <td>5.0</td>\n",
       "      <td>4.0</td>\n",
       "    </tr>\n",
       "    <tr>\n",
       "      <th>2</th>\n",
       "      <td>1</td>\n",
       "      <td>7.0</td>\n",
       "      <td>4.5</td>\n",
       "    </tr>\n",
       "    <tr>\n",
       "      <th>3</th>\n",
       "      <td>1</td>\n",
       "      <td>15.0</td>\n",
       "      <td>2.5</td>\n",
       "    </tr>\n",
       "    <tr>\n",
       "      <th>4</th>\n",
       "      <td>1</td>\n",
       "      <td>17.0</td>\n",
       "      <td>4.5</td>\n",
       "    </tr>\n",
       "  </tbody>\n",
       "</table>\n",
       "</div>"
      ],
      "text/plain": [
       "   movieId  userId  rating\n",
       "0        1     1.0     4.0\n",
       "1        1     5.0     4.0\n",
       "2        1     7.0     4.5\n",
       "3        1    15.0     2.5\n",
       "4        1    17.0     4.5"
      ]
     },
     "execution_count": 134,
     "metadata": {},
     "output_type": "execute_result"
    }
   ],
   "source": [
    "movieRatings_df.head()"
   ]
  },
  {
   "cell_type": "code",
   "execution_count": 135,
   "metadata": {
    "ExecuteTime": {
     "end_time": "2021-09-09T14:49:30.996140Z",
     "start_time": "2021-09-09T14:49:30.785897Z"
    }
   },
   "outputs": [],
   "source": [
    "# Use surprise reading object to parse the dataframe and make suitable for surprise API\n",
    "\n",
    "# Set up config for KNNBasic\n",
    "sim_cos = {'name':'cosine', 'user_based':True}\n",
    "\n",
    "reader = Reader()\n",
    "\n",
    "ratings_data = Dataset.load_from_df(movieRatings_df, reader)"
   ]
  },
  {
   "cell_type": "code",
   "execution_count": 136,
   "metadata": {
    "ExecuteTime": {
     "end_time": "2021-09-09T14:52:15.903885Z",
     "start_time": "2021-09-09T14:49:33.161489Z"
    },
    "scrolled": false
   },
   "outputs": [
    {
     "name": "stdout",
     "output_type": "stream",
     "text": [
      "Computing the cosine similarity matrix...\n",
      "Done computing similarity matrix.\n",
      "Computing the cosine similarity matrix...\n",
      "Done computing similarity matrix.\n",
      "Computing the cosine similarity matrix...\n",
      "Done computing similarity matrix.\n",
      "Computing the cosine similarity matrix...\n",
      "Done computing similarity matrix.\n",
      "Computing the cosine similarity matrix...\n",
      "Done computing similarity matrix.\n",
      "Evaluating RMSE of algorithm KNNBasic on 5 split(s).\n",
      "\n",
      "                  Fold 1  Fold 2  Fold 3  Fold 4  Fold 5  Mean    Std     \n",
      "RMSE (testset)    0.9693  0.9701  0.9826  0.9784  0.9818  0.9765  0.0057  \n",
      "Fit time          26.13   25.99   20.24   19.63   19.16   22.23   3.15    \n",
      "Test time         9.64    10.02   11.27   11.06   8.16    10.03   1.12    \n"
     ]
    }
   ],
   "source": [
    "knn_basic = KNNBasic(sim_options=sim_cos)\n",
    "\n",
    "knnbasic_cosine_results = cross_validate(knn_basic, ratings_data, measures=['RMSE'], verbose=True)"
   ]
  },
  {
   "cell_type": "code",
   "execution_count": 137,
   "metadata": {
    "ExecuteTime": {
     "end_time": "2021-09-09T14:52:18.513907Z",
     "start_time": "2021-09-09T14:52:18.451530Z"
    }
   },
   "outputs": [
    {
     "name": "stdout",
     "output_type": "stream",
     "text": [
      "Mean RMSE Score: 0.9764562087052004\n",
      "Mean Test Time Score: 0.9764562087052004\n"
     ]
    },
    {
     "data": {
      "text/html": [
       "<div>\n",
       "<style scoped>\n",
       "    .dataframe tbody tr th:only-of-type {\n",
       "        vertical-align: middle;\n",
       "    }\n",
       "\n",
       "    .dataframe tbody tr th {\n",
       "        vertical-align: top;\n",
       "    }\n",
       "\n",
       "    .dataframe thead th {\n",
       "        text-align: right;\n",
       "    }\n",
       "</style>\n",
       "<table border=\"1\" class=\"dataframe\">\n",
       "  <thead>\n",
       "    <tr style=\"text-align: right;\">\n",
       "      <th></th>\n",
       "      <th>test_rmse</th>\n",
       "      <th>fit_time</th>\n",
       "      <th>test_time</th>\n",
       "      <th>model</th>\n",
       "    </tr>\n",
       "  </thead>\n",
       "  <tbody>\n",
       "    <tr>\n",
       "      <th>0</th>\n",
       "      <td>0.969319</td>\n",
       "      <td>26.130582</td>\n",
       "      <td>9.643696</td>\n",
       "      <td>KNN Basic - Cosine Similarity</td>\n",
       "    </tr>\n",
       "    <tr>\n",
       "      <th>1</th>\n",
       "      <td>0.970119</td>\n",
       "      <td>25.986192</td>\n",
       "      <td>10.020964</td>\n",
       "      <td>KNN Basic - Cosine Similarity</td>\n",
       "    </tr>\n",
       "    <tr>\n",
       "      <th>2</th>\n",
       "      <td>0.982632</td>\n",
       "      <td>20.241085</td>\n",
       "      <td>11.269347</td>\n",
       "      <td>KNN Basic - Cosine Similarity</td>\n",
       "    </tr>\n",
       "    <tr>\n",
       "      <th>3</th>\n",
       "      <td>0.978439</td>\n",
       "      <td>19.633963</td>\n",
       "      <td>11.061073</td>\n",
       "      <td>KNN Basic - Cosine Similarity</td>\n",
       "    </tr>\n",
       "    <tr>\n",
       "      <th>4</th>\n",
       "      <td>0.981772</td>\n",
       "      <td>19.155183</td>\n",
       "      <td>8.156125</td>\n",
       "      <td>KNN Basic - Cosine Similarity</td>\n",
       "    </tr>\n",
       "  </tbody>\n",
       "</table>\n",
       "</div>"
      ],
      "text/plain": [
       "   test_rmse   fit_time  test_time                          model\n",
       "0   0.969319  26.130582   9.643696  KNN Basic - Cosine Similarity\n",
       "1   0.970119  25.986192  10.020964  KNN Basic - Cosine Similarity\n",
       "2   0.982632  20.241085  11.269347  KNN Basic - Cosine Similarity\n",
       "3   0.978439  19.633963  11.061073  KNN Basic - Cosine Similarity\n",
       "4   0.981772  19.155183   8.156125  KNN Basic - Cosine Similarity"
      ]
     },
     "execution_count": 137,
     "metadata": {},
     "output_type": "execute_result"
    }
   ],
   "source": [
    "knnBasicCosine_df = pd.DataFrame(knnbasic_cosine_results)\n",
    "print(f'Mean RMSE Score: {knnBasicCosine_df.test_rmse.mean()}')\n",
    "print(f'Mean Test Time Score: {knnBasicCosine_df.test_rmse.mean()}')\n",
    "\n",
    "# Set label to comparitive graphing purposes\n",
    "knnBasicCosine_df['model'] = 'KNN Basic - Cosine Similarity'\n",
    "\n",
    "knnBasicCosine_df.head()"
   ]
  },
  {
   "cell_type": "markdown",
   "metadata": {},
   "source": [
    "### Pearson Similarity"
   ]
  },
  {
   "cell_type": "code",
   "execution_count": 138,
   "metadata": {
    "ExecuteTime": {
     "end_time": "2021-09-09T14:55:51.851786Z",
     "start_time": "2021-09-09T14:52:20.714613Z"
    }
   },
   "outputs": [
    {
     "name": "stdout",
     "output_type": "stream",
     "text": [
      "Computing the pearson similarity matrix...\n",
      "Done computing similarity matrix.\n",
      "Computing the pearson similarity matrix...\n",
      "Done computing similarity matrix.\n",
      "Computing the pearson similarity matrix...\n",
      "Done computing similarity matrix.\n",
      "Computing the pearson similarity matrix...\n",
      "Done computing similarity matrix.\n",
      "Computing the pearson similarity matrix...\n",
      "Done computing similarity matrix.\n",
      "Evaluating RMSE of algorithm KNNBasic on 5 split(s).\n",
      "\n",
      "                  Fold 1  Fold 2  Fold 3  Fold 4  Fold 5  Mean    Std     \n",
      "RMSE (testset)    0.9806  0.9807  0.9561  0.9763  0.9565  0.9700  0.0113  \n",
      "Fit time          34.13   31.63   35.27   28.69   28.91   31.73   2.67    \n",
      "Test time         11.58   9.26    11.00   10.84   8.18    10.17   1.26    \n"
     ]
    }
   ],
   "source": [
    "sim_pearson = {'name':'pearson', 'user_based':True}\n",
    "knn_pearson_basic = KNNBasic(sim_options=sim_pearson)\n",
    "\n",
    "knnbasic_pearson_results = cross_validate(knn_pearson_basic, ratings_data, measures=['RMSE'], verbose=True)"
   ]
  },
  {
   "cell_type": "code",
   "execution_count": 139,
   "metadata": {
    "ExecuteTime": {
     "end_time": "2021-09-09T14:55:54.545911Z",
     "start_time": "2021-09-09T14:55:54.499166Z"
    }
   },
   "outputs": [
    {
     "name": "stdout",
     "output_type": "stream",
     "text": [
      "Mean RMSE Score: 0.9700381023971433\n",
      "Mean Test Time Score: 0.9700381023971433\n"
     ]
    },
    {
     "data": {
      "text/html": [
       "<div>\n",
       "<style scoped>\n",
       "    .dataframe tbody tr th:only-of-type {\n",
       "        vertical-align: middle;\n",
       "    }\n",
       "\n",
       "    .dataframe tbody tr th {\n",
       "        vertical-align: top;\n",
       "    }\n",
       "\n",
       "    .dataframe thead th {\n",
       "        text-align: right;\n",
       "    }\n",
       "</style>\n",
       "<table border=\"1\" class=\"dataframe\">\n",
       "  <thead>\n",
       "    <tr style=\"text-align: right;\">\n",
       "      <th></th>\n",
       "      <th>test_rmse</th>\n",
       "      <th>fit_time</th>\n",
       "      <th>test_time</th>\n",
       "      <th>model</th>\n",
       "    </tr>\n",
       "  </thead>\n",
       "  <tbody>\n",
       "    <tr>\n",
       "      <th>0</th>\n",
       "      <td>0.980587</td>\n",
       "      <td>34.129964</td>\n",
       "      <td>11.582394</td>\n",
       "      <td>KNN Basic - Pearson Similarity</td>\n",
       "    </tr>\n",
       "    <tr>\n",
       "      <th>1</th>\n",
       "      <td>0.980710</td>\n",
       "      <td>31.627712</td>\n",
       "      <td>9.264009</td>\n",
       "      <td>KNN Basic - Pearson Similarity</td>\n",
       "    </tr>\n",
       "    <tr>\n",
       "      <th>2</th>\n",
       "      <td>0.956050</td>\n",
       "      <td>35.274892</td>\n",
       "      <td>10.997784</td>\n",
       "      <td>KNN Basic - Pearson Similarity</td>\n",
       "    </tr>\n",
       "    <tr>\n",
       "      <th>3</th>\n",
       "      <td>0.976315</td>\n",
       "      <td>28.689093</td>\n",
       "      <td>10.842913</td>\n",
       "      <td>KNN Basic - Pearson Similarity</td>\n",
       "    </tr>\n",
       "    <tr>\n",
       "      <th>4</th>\n",
       "      <td>0.956528</td>\n",
       "      <td>28.905289</td>\n",
       "      <td>8.176064</td>\n",
       "      <td>KNN Basic - Pearson Similarity</td>\n",
       "    </tr>\n",
       "  </tbody>\n",
       "</table>\n",
       "</div>"
      ],
      "text/plain": [
       "   test_rmse   fit_time  test_time                           model\n",
       "0   0.980587  34.129964  11.582394  KNN Basic - Pearson Similarity\n",
       "1   0.980710  31.627712   9.264009  KNN Basic - Pearson Similarity\n",
       "2   0.956050  35.274892  10.997784  KNN Basic - Pearson Similarity\n",
       "3   0.976315  28.689093  10.842913  KNN Basic - Pearson Similarity\n",
       "4   0.956528  28.905289   8.176064  KNN Basic - Pearson Similarity"
      ]
     },
     "execution_count": 139,
     "metadata": {},
     "output_type": "execute_result"
    }
   ],
   "source": [
    "knnBasicPearson_df = pd.DataFrame(knnbasic_pearson_results)\n",
    "print(f'Mean RMSE Score: {knnBasicPearson_df.test_rmse.mean()}')\n",
    "print(f'Mean Test Time Score: {knnBasicPearson_df.test_rmse.mean()}')\n",
    "\n",
    "# Set label to comparitive graphing purposes\n",
    "knnBasicPearson_df['model'] = 'KNN Basic - Pearson Similarity'\n",
    "\n",
    "knnBasicPearson_df.head()"
   ]
  },
  {
   "cell_type": "markdown",
   "metadata": {},
   "source": [
    "Each row indicates a fold from a five fold cross validation. Our K-Nearest Neighbor (KNN) Basic model using both pearson and cosine divides the data into 5 equal parts, leaving 1 / 5 of the parts to test on.\n",
    "\n",
    "Between both KNN models -- the first using **cosine** similarity as a similarity metric between users and the second using **pearson** similarity , we see that the mean RMSE score for our pearson model is slightly better than the cosine model. With our pearson similarity based KNN model, we achieve a score of **0.9743**\n",
    "\n",
    "Comparitively, this is a better result than our baseline model RMSE score of **1.15**."
   ]
  },
  {
   "cell_type": "markdown",
   "metadata": {},
   "source": [
    "## Model based CF models\n",
    "Due to the sparsity observed within our rating_matrix indicated by the amount of missing values, we will use the solution devised by Simon Funk (https://sifter.org/~simon/journal/20061211.html), which is essentially a modified version of the dimensionality reduction technique SVD (otherwise known as Simon Funk's SVD).\n",
    "\n",
    "We will transform our rating matrix in such a way to construct principal components -- transformations from our original matrix that hold the most variance (or information) regarding our users and movies. From these components, they will make up overarching user-embedding and movie-embedding matrices providing us more dense matrices. As a result, these can give us predictions for the missing values seen within our original rating_matrix."
   ]
  },
  {
   "cell_type": "code",
   "execution_count": 140,
   "metadata": {
    "ExecuteTime": {
     "end_time": "2021-09-09T14:56:38.596262Z",
     "start_time": "2021-09-09T14:55:56.808806Z"
    }
   },
   "outputs": [
    {
     "name": "stderr",
     "output_type": "stream",
     "text": [
      "[Parallel(n_jobs=-1)]: Using backend LokyBackend with 8 concurrent workers.\n",
      "[Parallel(n_jobs=-1)]: Done   2 tasks      | elapsed:    4.1s\n",
      "[Parallel(n_jobs=-1)]: Done  56 tasks      | elapsed:   22.8s\n",
      "[Parallel(n_jobs=-1)]: Done  80 out of  80 | elapsed:   39.4s finished\n"
     ]
    }
   ],
   "source": [
    "# Prep param grid for gridsearch\n",
    "param_grid = {'n_factors':[20, 100],'n_epochs': [5, 10], 'lr_all': [0.002, 0.005],\n",
    "              'reg_all': [0.4, 0.6]}\n",
    "gs_model = GridSearchCV(SVD,param_grid=param_grid,n_jobs = -1,joblib_verbose=5)\n",
    "gs_model.fit(ratings_data)"
   ]
  },
  {
   "cell_type": "code",
   "execution_count": 141,
   "metadata": {
    "ExecuteTime": {
     "end_time": "2021-09-09T14:56:40.786849Z",
     "start_time": "2021-09-09T14:56:40.771230Z"
    }
   },
   "outputs": [],
   "source": [
    "# Extract best params\n",
    "best_params = gs_model.best_params['rmse']"
   ]
  },
  {
   "cell_type": "code",
   "execution_count": 142,
   "metadata": {
    "ExecuteTime": {
     "end_time": "2021-09-09T14:56:43.054077Z",
     "start_time": "2021-09-09T14:56:43.040082Z"
    }
   },
   "outputs": [
    {
     "data": {
      "text/plain": [
       "{'n_factors': 20, 'n_epochs': 10, 'lr_all': 0.005, 'reg_all': 0.4}"
      ]
     },
     "execution_count": 142,
     "metadata": {},
     "output_type": "execute_result"
    }
   ],
   "source": [
    "# Peek at best params from gridsearch\n",
    "best_params"
   ]
  },
  {
   "cell_type": "code",
   "execution_count": 143,
   "metadata": {
    "ExecuteTime": {
     "end_time": "2021-09-09T14:56:45.342737Z",
     "start_time": "2021-09-09T14:56:45.249971Z"
    }
   },
   "outputs": [],
   "source": [
    "# Use test data prepared from earlier\n",
    "ratings_test_data = Dataset.load_from_df(X_test, reader)"
   ]
  },
  {
   "cell_type": "code",
   "execution_count": 144,
   "metadata": {
    "ExecuteTime": {
     "end_time": "2021-09-09T14:57:10.424955Z",
     "start_time": "2021-09-09T14:56:47.557629Z"
    }
   },
   "outputs": [
    {
     "name": "stdout",
     "output_type": "stream",
     "text": [
      "Evaluating RMSE of algorithm SVD on 5 split(s).\n",
      "\n",
      "                  Fold 1  Fold 2  Fold 3  Fold 4  Fold 5  Mean    Std     \n",
      "RMSE (testset)    0.8690  0.8718  0.8876  0.8770  0.8746  0.8760  0.0064  \n",
      "Fit time          4.09    4.19    4.31    4.41    4.14    4.23    0.12    \n",
      "Test time         0.14    0.14    0.30    0.13    0.14    0.17    0.06    \n"
     ]
    }
   ],
   "source": [
    "# SVD Without GridSearch\n",
    "svd_woGS = SVD()\n",
    "# svd.fit(ratings_train_data)\n",
    "# # predictions = svd.test(ratings_test_data)\n",
    "# # print(accuracy.rmse(predictions))\n",
    "\n",
    "svd_model_woGS_results = cross_validate(svd_woGS, ratings_data, measures=['RMSE'], verbose=True)"
   ]
  },
  {
   "cell_type": "code",
   "execution_count": 145,
   "metadata": {
    "ExecuteTime": {
     "end_time": "2021-09-09T14:57:12.743752Z",
     "start_time": "2021-09-09T14:57:12.714812Z"
    }
   },
   "outputs": [
    {
     "name": "stdout",
     "output_type": "stream",
     "text": [
      "Mean RMSE Score: 0.8760151193564241\n",
      "Mean Test Time Score: 0.8760151193564241\n"
     ]
    },
    {
     "data": {
      "text/html": [
       "<div>\n",
       "<style scoped>\n",
       "    .dataframe tbody tr th:only-of-type {\n",
       "        vertical-align: middle;\n",
       "    }\n",
       "\n",
       "    .dataframe tbody tr th {\n",
       "        vertical-align: top;\n",
       "    }\n",
       "\n",
       "    .dataframe thead th {\n",
       "        text-align: right;\n",
       "    }\n",
       "</style>\n",
       "<table border=\"1\" class=\"dataframe\">\n",
       "  <thead>\n",
       "    <tr style=\"text-align: right;\">\n",
       "      <th></th>\n",
       "      <th>test_rmse</th>\n",
       "      <th>fit_time</th>\n",
       "      <th>test_time</th>\n",
       "      <th>model</th>\n",
       "    </tr>\n",
       "  </thead>\n",
       "  <tbody>\n",
       "    <tr>\n",
       "      <th>0</th>\n",
       "      <td>0.869029</td>\n",
       "      <td>4.089916</td>\n",
       "      <td>0.140632</td>\n",
       "      <td>SVD without GridSearch</td>\n",
       "    </tr>\n",
       "    <tr>\n",
       "      <th>1</th>\n",
       "      <td>0.871803</td>\n",
       "      <td>4.188708</td>\n",
       "      <td>0.140634</td>\n",
       "      <td>SVD without GridSearch</td>\n",
       "    </tr>\n",
       "    <tr>\n",
       "      <th>2</th>\n",
       "      <td>0.887649</td>\n",
       "      <td>4.309713</td>\n",
       "      <td>0.296884</td>\n",
       "      <td>SVD without GridSearch</td>\n",
       "    </tr>\n",
       "    <tr>\n",
       "      <th>3</th>\n",
       "      <td>0.877019</td>\n",
       "      <td>4.410490</td>\n",
       "      <td>0.125057</td>\n",
       "      <td>SVD without GridSearch</td>\n",
       "    </tr>\n",
       "    <tr>\n",
       "      <th>4</th>\n",
       "      <td>0.874576</td>\n",
       "      <td>4.142286</td>\n",
       "      <td>0.139281</td>\n",
       "      <td>SVD without GridSearch</td>\n",
       "    </tr>\n",
       "  </tbody>\n",
       "</table>\n",
       "</div>"
      ],
      "text/plain": [
       "   test_rmse  fit_time  test_time                   model\n",
       "0   0.869029  4.089916   0.140632  SVD without GridSearch\n",
       "1   0.871803  4.188708   0.140634  SVD without GridSearch\n",
       "2   0.887649  4.309713   0.296884  SVD without GridSearch\n",
       "3   0.877019  4.410490   0.125057  SVD without GridSearch\n",
       "4   0.874576  4.142286   0.139281  SVD without GridSearch"
      ]
     },
     "execution_count": 145,
     "metadata": {},
     "output_type": "execute_result"
    }
   ],
   "source": [
    "# Save model results for SVD without gridsearch\n",
    "svd_model_woGS_results_df = pd.DataFrame(svd_model_woGS_results)\n",
    "print(f'Mean RMSE Score: {svd_model_woGS_results_df.test_rmse.mean()}')\n",
    "print(f'Mean Test Time Score: {svd_model_woGS_results_df.test_rmse.mean()}')\n",
    "\n",
    "# Set label to comparitive graphing purposes\n",
    "svd_model_woGS_results_df['model'] = 'SVD without GridSearch'\n",
    "\n",
    "svd_model_woGS_results_df.head()"
   ]
  },
  {
   "cell_type": "code",
   "execution_count": 146,
   "metadata": {
    "ExecuteTime": {
     "end_time": "2021-09-09T14:57:21.962591Z",
     "start_time": "2021-09-09T14:57:14.929896Z"
    },
    "scrolled": true
   },
   "outputs": [
    {
     "name": "stdout",
     "output_type": "stream",
     "text": [
      "Evaluating RMSE of algorithm SVD on 5 split(s).\n",
      "\n",
      "                  Fold 1  Fold 2  Fold 3  Fold 4  Fold 5  Mean    Std     \n",
      "RMSE (testset)    0.8903  0.8880  0.8932  0.8933  0.8861  0.8902  0.0029  \n",
      "Fit time          0.93    0.98    1.03    1.12    1.03    1.02    0.06    \n",
      "Test time         0.25    0.14    0.21    0.18    0.15    0.18    0.04    \n"
     ]
    }
   ],
   "source": [
    "# SVD With GridSearch\n",
    "svd = SVD(n_factors=20, n_epochs=10, lr_all=0.005, reg_all=0.4)\n",
    "# svd.fit(ratings_train_data)\n",
    "# # predictions = svd.test(ratings_test_data)\n",
    "# # print(accuracy.rmse(predictions))\n",
    "\n",
    "svd_model_results = cross_validate(svd, ratings_data, measures=['RMSE'], verbose=True)"
   ]
  },
  {
   "cell_type": "code",
   "execution_count": 147,
   "metadata": {
    "ExecuteTime": {
     "end_time": "2021-09-09T14:57:24.224843Z",
     "start_time": "2021-09-09T14:57:24.211902Z"
    }
   },
   "outputs": [
    {
     "name": "stdout",
     "output_type": "stream",
     "text": [
      "Mean RMSE Score: 0.8901677819120509\n",
      "Mean Test Time Score: 0.8901677819120509\n"
     ]
    },
    {
     "data": {
      "text/html": [
       "<div>\n",
       "<style scoped>\n",
       "    .dataframe tbody tr th:only-of-type {\n",
       "        vertical-align: middle;\n",
       "    }\n",
       "\n",
       "    .dataframe tbody tr th {\n",
       "        vertical-align: top;\n",
       "    }\n",
       "\n",
       "    .dataframe thead th {\n",
       "        text-align: right;\n",
       "    }\n",
       "</style>\n",
       "<table border=\"1\" class=\"dataframe\">\n",
       "  <thead>\n",
       "    <tr style=\"text-align: right;\">\n",
       "      <th></th>\n",
       "      <th>test_rmse</th>\n",
       "      <th>fit_time</th>\n",
       "      <th>test_time</th>\n",
       "      <th>model</th>\n",
       "    </tr>\n",
       "  </thead>\n",
       "  <tbody>\n",
       "    <tr>\n",
       "      <th>0</th>\n",
       "      <td>0.890277</td>\n",
       "      <td>0.930588</td>\n",
       "      <td>0.248096</td>\n",
       "      <td>SVD with GridSearch</td>\n",
       "    </tr>\n",
       "    <tr>\n",
       "      <th>1</th>\n",
       "      <td>0.887966</td>\n",
       "      <td>0.975621</td>\n",
       "      <td>0.144941</td>\n",
       "      <td>SVD with GridSearch</td>\n",
       "    </tr>\n",
       "    <tr>\n",
       "      <th>2</th>\n",
       "      <td>0.893235</td>\n",
       "      <td>1.027684</td>\n",
       "      <td>0.205992</td>\n",
       "      <td>SVD with GridSearch</td>\n",
       "    </tr>\n",
       "    <tr>\n",
       "      <th>3</th>\n",
       "      <td>0.893304</td>\n",
       "      <td>1.121248</td>\n",
       "      <td>0.178608</td>\n",
       "      <td>SVD with GridSearch</td>\n",
       "    </tr>\n",
       "    <tr>\n",
       "      <th>4</th>\n",
       "      <td>0.886057</td>\n",
       "      <td>1.032173</td>\n",
       "      <td>0.146276</td>\n",
       "      <td>SVD with GridSearch</td>\n",
       "    </tr>\n",
       "  </tbody>\n",
       "</table>\n",
       "</div>"
      ],
      "text/plain": [
       "   test_rmse  fit_time  test_time                model\n",
       "0   0.890277  0.930588   0.248096  SVD with GridSearch\n",
       "1   0.887966  0.975621   0.144941  SVD with GridSearch\n",
       "2   0.893235  1.027684   0.205992  SVD with GridSearch\n",
       "3   0.893304  1.121248   0.178608  SVD with GridSearch\n",
       "4   0.886057  1.032173   0.146276  SVD with GridSearch"
      ]
     },
     "execution_count": 147,
     "metadata": {},
     "output_type": "execute_result"
    }
   ],
   "source": [
    "svd_model_results_df = pd.DataFrame(svd_model_results)\n",
    "print(f'Mean RMSE Score: {svd_model_results_df.test_rmse.mean()}')\n",
    "print(f'Mean Test Time Score: {svd_model_results_df.test_rmse.mean()}')\n",
    "\n",
    "# Set label to comparitive graphing purposes\n",
    "svd_model_results_df['model'] = 'SVD with GridSearch'\n",
    "\n",
    "svd_model_results_df.head()"
   ]
  },
  {
   "cell_type": "markdown",
   "metadata": {},
   "source": [
    "## Combine model results"
   ]
  },
  {
   "cell_type": "code",
   "execution_count": 148,
   "metadata": {
    "ExecuteTime": {
     "end_time": "2021-09-09T14:57:26.531384Z",
     "start_time": "2021-09-09T14:57:26.503380Z"
    }
   },
   "outputs": [
    {
     "data": {
      "text/html": [
       "<div>\n",
       "<style scoped>\n",
       "    .dataframe tbody tr th:only-of-type {\n",
       "        vertical-align: middle;\n",
       "    }\n",
       "\n",
       "    .dataframe tbody tr th {\n",
       "        vertical-align: top;\n",
       "    }\n",
       "\n",
       "    .dataframe thead th {\n",
       "        text-align: right;\n",
       "    }\n",
       "</style>\n",
       "<table border=\"1\" class=\"dataframe\">\n",
       "  <thead>\n",
       "    <tr style=\"text-align: right;\">\n",
       "      <th></th>\n",
       "      <th>test_rmse</th>\n",
       "      <th>fit_time</th>\n",
       "      <th>test_time</th>\n",
       "      <th>model</th>\n",
       "    </tr>\n",
       "  </thead>\n",
       "  <tbody>\n",
       "    <tr>\n",
       "      <th>0</th>\n",
       "      <td>1.155123</td>\n",
       "      <td>NaN</td>\n",
       "      <td>NaN</td>\n",
       "      <td>Baseline Model</td>\n",
       "    </tr>\n",
       "    <tr>\n",
       "      <th>0</th>\n",
       "      <td>0.979278</td>\n",
       "      <td>NaN</td>\n",
       "      <td>NaN</td>\n",
       "      <td>Collaborative Filter Simple Mean Model</td>\n",
       "    </tr>\n",
       "    <tr>\n",
       "      <th>0</th>\n",
       "      <td>0.969319</td>\n",
       "      <td>26.130582</td>\n",
       "      <td>9.643696</td>\n",
       "      <td>KNN Basic - Cosine Similarity</td>\n",
       "    </tr>\n",
       "    <tr>\n",
       "      <th>1</th>\n",
       "      <td>0.970119</td>\n",
       "      <td>25.986192</td>\n",
       "      <td>10.020964</td>\n",
       "      <td>KNN Basic - Cosine Similarity</td>\n",
       "    </tr>\n",
       "    <tr>\n",
       "      <th>2</th>\n",
       "      <td>0.982632</td>\n",
       "      <td>20.241085</td>\n",
       "      <td>11.269347</td>\n",
       "      <td>KNN Basic - Cosine Similarity</td>\n",
       "    </tr>\n",
       "  </tbody>\n",
       "</table>\n",
       "</div>"
      ],
      "text/plain": [
       "   test_rmse   fit_time  test_time                                   model\n",
       "0   1.155123        NaN        NaN                          Baseline Model\n",
       "0   0.979278        NaN        NaN  Collaborative Filter Simple Mean Model\n",
       "0   0.969319  26.130582   9.643696           KNN Basic - Cosine Similarity\n",
       "1   0.970119  25.986192  10.020964           KNN Basic - Cosine Similarity\n",
       "2   0.982632  20.241085  11.269347           KNN Basic - Cosine Similarity"
      ]
     },
     "execution_count": 148,
     "metadata": {},
     "output_type": "execute_result"
    }
   ],
   "source": [
    "# Concat model results\n",
    "modelResults_df = pd.concat([baselineModel_df,\n",
    "                             cfMeanModel_df,\n",
    "                             knnBasicCosine_df,\n",
    "                             knnBasicPearson_df,\n",
    "                             svd_model_results_df, \n",
    "                             svd_model_woGS_results_df])\n",
    "\n",
    "# Peek at data\n",
    "modelResults_df.head()"
   ]
  },
  {
   "cell_type": "code",
   "execution_count": 149,
   "metadata": {
    "ExecuteTime": {
     "end_time": "2021-09-09T14:57:28.812364Z",
     "start_time": "2021-09-09T14:57:28.784343Z"
    }
   },
   "outputs": [
    {
     "data": {
      "text/html": [
       "<div>\n",
       "<style scoped>\n",
       "    .dataframe tbody tr th:only-of-type {\n",
       "        vertical-align: middle;\n",
       "    }\n",
       "\n",
       "    .dataframe tbody tr th {\n",
       "        vertical-align: top;\n",
       "    }\n",
       "\n",
       "    .dataframe thead th {\n",
       "        text-align: right;\n",
       "    }\n",
       "</style>\n",
       "<table border=\"1\" class=\"dataframe\">\n",
       "  <thead>\n",
       "    <tr style=\"text-align: right;\">\n",
       "      <th></th>\n",
       "      <th>model</th>\n",
       "      <th>test_rmse</th>\n",
       "    </tr>\n",
       "  </thead>\n",
       "  <tbody>\n",
       "    <tr>\n",
       "      <th>0</th>\n",
       "      <td>Baseline Model</td>\n",
       "      <td>1.155</td>\n",
       "    </tr>\n",
       "    <tr>\n",
       "      <th>1</th>\n",
       "      <td>Collaborative Filter Simple Mean Model</td>\n",
       "      <td>0.979</td>\n",
       "    </tr>\n",
       "    <tr>\n",
       "      <th>2</th>\n",
       "      <td>KNN Basic - Cosine Similarity</td>\n",
       "      <td>0.976</td>\n",
       "    </tr>\n",
       "    <tr>\n",
       "      <th>3</th>\n",
       "      <td>KNN Basic - Pearson Similarity</td>\n",
       "      <td>0.970</td>\n",
       "    </tr>\n",
       "    <tr>\n",
       "      <th>4</th>\n",
       "      <td>SVD with GridSearch</td>\n",
       "      <td>0.890</td>\n",
       "    </tr>\n",
       "    <tr>\n",
       "      <th>5</th>\n",
       "      <td>SVD without GridSearch</td>\n",
       "      <td>0.876</td>\n",
       "    </tr>\n",
       "  </tbody>\n",
       "</table>\n",
       "</div>"
      ],
      "text/plain": [
       "                                    model  test_rmse\n",
       "0                          Baseline Model      1.155\n",
       "1  Collaborative Filter Simple Mean Model      0.979\n",
       "2           KNN Basic - Cosine Similarity      0.976\n",
       "3          KNN Basic - Pearson Similarity      0.970\n",
       "4                     SVD with GridSearch      0.890\n",
       "5                  SVD without GridSearch      0.876"
      ]
     },
     "execution_count": 149,
     "metadata": {},
     "output_type": "execute_result"
    }
   ],
   "source": [
    "# Aggregate test_rmse per model\n",
    "modelAgg_testRMSE = pd.DataFrame( modelResults_df.groupby('model')['test_rmse'].mean() ).reset_index()\n",
    "\n",
    "# Round RMSE Score for plotting purposes\n",
    "modelAgg_testRMSE['test_rmse'] = modelAgg_testRMSE['test_rmse'].map(lambda x: round(x, 3))\n",
    "\n",
    "modelAgg_testRMSE"
   ]
  },
  {
   "cell_type": "code",
   "execution_count": 150,
   "metadata": {
    "ExecuteTime": {
     "end_time": "2021-09-09T14:57:31.979711Z",
     "start_time": "2021-09-09T14:57:31.027217Z"
    },
    "scrolled": false
   },
   "outputs": [
    {
     "data": {
      "image/png": "[encoded data removed]",
      "text/plain": [
       "<Figure size 3600x1800 with 1 Axes>"
      ]
     },
     "metadata": {
      "needs_background": "light"
     },
     "output_type": "display_data"
    }
   ],
   "source": [
    "# Plot results\n",
    "plt.figure(figsize=(12,6),dpi=300)\n",
    "\n",
    "test_rmse_scores = list(modelAgg_testRMSE.test_rmse)\n",
    "x_labels = list(modelAgg_testRMSE.model)\n",
    "\n",
    "plt.barh(x_labels,test_rmse_scores)\n",
    "plt.ylabel('Model')\n",
    "plt.xlabel('Root Mean Squared Error Score')\n",
    "plt.title('Collaborative Filter Model Comparison')\n",
    "\n",
    "for index, value in enumerate(test_rmse_scores):\n",
    "    plt.text(value, index, str(value))\n",
    "    \n",
    "# Savefig\n",
    "plt.savefig('CollaborativeFilterModelComparison.jpg',dpi=300, bbox_inches = 'tight')"
   ]
  },
  {
   "cell_type": "markdown",
   "metadata": {},
   "source": [
    "The visual above showcases the mean RMSE score (through 5 cross-validation folds of the user-rating data) per collaborative filter model. Based on the results, the SVD without gridsearch parameter tuning CF model performed best with a mean RMSE score of 0.878. For our hybrid model, we will move forward with the SVD without GridSearch model."
   ]
  },
  {
   "cell_type": "markdown",
   "metadata": {},
   "source": [
    "# Content Based Filter\n",
    "In this section we will aim to address the **cold-start problem** in which our recommender does not contain past data or information of what a user has rated before, and hence no information about a user's taste or preferences for movies.\n",
    "\n",
    "With a content based filter (similar to Netflix), a user is asked to input / mark movies they do like, and return the most similar results. By most similar results, we can create a content based filter model using the provided metadata from GroupLens\n",
    "\n",
    "2. Metadata-based recommender\n",
    "- Compare genres, and taglines"
   ]
  },
  {
   "cell_type": "markdown",
   "metadata": {},
   "source": [
    "- Create single document vectors per movie based on title, tags, and genres\n",
    "- Compute similarity scores\n",
    "- Build metadata recommender function"
   ]
  },
  {
   "cell_type": "code",
   "execution_count": 45,
   "metadata": {
    "ExecuteTime": {
     "end_time": "2021-09-08T03:14:21.318329Z",
     "start_time": "2021-09-08T03:14:21.190917Z"
    }
   },
   "outputs": [
    {
     "data": {
      "text/html": [
       "<div>\n",
       "<style scoped>\n",
       "    .dataframe tbody tr th:only-of-type {\n",
       "        vertical-align: middle;\n",
       "    }\n",
       "\n",
       "    .dataframe tbody tr th {\n",
       "        vertical-align: top;\n",
       "    }\n",
       "\n",
       "    .dataframe thead th {\n",
       "        text-align: right;\n",
       "    }\n",
       "</style>\n",
       "<table border=\"1\" class=\"dataframe\">\n",
       "  <thead>\n",
       "    <tr style=\"text-align: right;\">\n",
       "      <th></th>\n",
       "      <th>movieId</th>\n",
       "      <th>title</th>\n",
       "      <th>genres</th>\n",
       "    </tr>\n",
       "  </thead>\n",
       "  <tbody>\n",
       "    <tr>\n",
       "      <th>0</th>\n",
       "      <td>1</td>\n",
       "      <td>Toy Story (1995)</td>\n",
       "      <td>Adventure|Animation|Children|Comedy|Fantasy</td>\n",
       "    </tr>\n",
       "    <tr>\n",
       "      <th>215</th>\n",
       "      <td>2</td>\n",
       "      <td>Jumanji (1995)</td>\n",
       "      <td>Adventure|Children|Fantasy</td>\n",
       "    </tr>\n",
       "    <tr>\n",
       "      <th>325</th>\n",
       "      <td>3</td>\n",
       "      <td>Grumpier Old Men (1995)</td>\n",
       "      <td>Comedy|Romance</td>\n",
       "    </tr>\n",
       "    <tr>\n",
       "      <th>377</th>\n",
       "      <td>4</td>\n",
       "      <td>Waiting to Exhale (1995)</td>\n",
       "      <td>Comedy|Drama|Romance</td>\n",
       "    </tr>\n",
       "    <tr>\n",
       "      <th>384</th>\n",
       "      <td>5</td>\n",
       "      <td>Father of the Bride Part II (1995)</td>\n",
       "      <td>Comedy</td>\n",
       "    </tr>\n",
       "  </tbody>\n",
       "</table>\n",
       "</div>"
      ],
      "text/plain": [
       "     movieId                               title  \\\n",
       "0          1                    Toy Story (1995)   \n",
       "215        2                      Jumanji (1995)   \n",
       "325        3             Grumpier Old Men (1995)   \n",
       "377        4            Waiting to Exhale (1995)   \n",
       "384        5  Father of the Bride Part II (1995)   \n",
       "\n",
       "                                          genres  \n",
       "0    Adventure|Animation|Children|Comedy|Fantasy  \n",
       "215                   Adventure|Children|Fantasy  \n",
       "325                               Comedy|Romance  \n",
       "377                         Comedy|Drama|Romance  \n",
       "384                                       Comedy  "
      ]
     },
     "execution_count": 45,
     "metadata": {},
     "output_type": "execute_result"
    }
   ],
   "source": [
    "# Create genres_tags_df to collect the genres and tags for our content based filter model\n",
    "genres_tags_df = pd.merge( movies_df, ratings_df, how='left', on='movieId' )\n",
    "\n",
    "# Remove unneeded column\n",
    "genres_tags_df.drop(['timestamp','userId','rating'],axis=1,inplace=True)\n",
    "\n",
    "# Drop duplicates\n",
    "genres_tags_df.drop_duplicates(inplace=True)\n",
    "\n",
    "# Peek data\n",
    "genres_tags_df.head()"
   ]
  },
  {
   "cell_type": "code",
   "execution_count": 46,
   "metadata": {
    "ExecuteTime": {
     "end_time": "2021-09-08T03:14:21.415754Z",
     "start_time": "2021-09-08T03:14:21.321333Z"
    }
   },
   "outputs": [
    {
     "data": {
      "text/html": [
       "<div>\n",
       "<style scoped>\n",
       "    .dataframe tbody tr th:only-of-type {\n",
       "        vertical-align: middle;\n",
       "    }\n",
       "\n",
       "    .dataframe tbody tr th {\n",
       "        vertical-align: top;\n",
       "    }\n",
       "\n",
       "    .dataframe thead th {\n",
       "        text-align: right;\n",
       "    }\n",
       "</style>\n",
       "<table border=\"1\" class=\"dataframe\">\n",
       "  <thead>\n",
       "    <tr style=\"text-align: right;\">\n",
       "      <th></th>\n",
       "      <th>movieId</th>\n",
       "      <th>tags</th>\n",
       "    </tr>\n",
       "  </thead>\n",
       "  <tbody>\n",
       "    <tr>\n",
       "      <th>0</th>\n",
       "      <td>1</td>\n",
       "      <td>pixar,pixar,fun</td>\n",
       "    </tr>\n",
       "    <tr>\n",
       "      <th>1</th>\n",
       "      <td>2</td>\n",
       "      <td>fantasy,magic board game,Robin Williams,game</td>\n",
       "    </tr>\n",
       "    <tr>\n",
       "      <th>2</th>\n",
       "      <td>3</td>\n",
       "      <td>moldy,old</td>\n",
       "    </tr>\n",
       "    <tr>\n",
       "      <th>3</th>\n",
       "      <td>5</td>\n",
       "      <td>pregnancy,remake</td>\n",
       "    </tr>\n",
       "    <tr>\n",
       "      <th>4</th>\n",
       "      <td>7</td>\n",
       "      <td>remake</td>\n",
       "    </tr>\n",
       "  </tbody>\n",
       "</table>\n",
       "</div>"
      ],
      "text/plain": [
       "   movieId                                          tags\n",
       "0        1                               pixar,pixar,fun\n",
       "1        2  fantasy,magic board game,Robin Williams,game\n",
       "2        3                                     moldy,old\n",
       "3        5                              pregnancy,remake\n",
       "4        7                                        remake"
      ]
     },
     "execution_count": 46,
     "metadata": {},
     "output_type": "execute_result"
    }
   ],
   "source": [
    "# Group tags to join to genres_tags_df \n",
    "grouped_tags = pd.DataFrame(tags_df.groupby('movieId').apply(lambda x: ','.join(x.tag)))\n",
    "grouped_tags.reset_index(inplace=True)\n",
    "grouped_tags.rename(columns={0:'tags'},inplace=True)\n",
    "grouped_tags.head()"
   ]
  },
  {
   "cell_type": "code",
   "execution_count": 47,
   "metadata": {
    "ExecuteTime": {
     "end_time": "2021-09-08T03:14:21.448540Z",
     "start_time": "2021-09-08T03:14:21.418834Z"
    }
   },
   "outputs": [
    {
     "data": {
      "text/html": [
       "<div>\n",
       "<style scoped>\n",
       "    .dataframe tbody tr th:only-of-type {\n",
       "        vertical-align: middle;\n",
       "    }\n",
       "\n",
       "    .dataframe tbody tr th {\n",
       "        vertical-align: top;\n",
       "    }\n",
       "\n",
       "    .dataframe thead th {\n",
       "        text-align: right;\n",
       "    }\n",
       "</style>\n",
       "<table border=\"1\" class=\"dataframe\">\n",
       "  <thead>\n",
       "    <tr style=\"text-align: right;\">\n",
       "      <th></th>\n",
       "      <th>movieId</th>\n",
       "      <th>title</th>\n",
       "      <th>genres</th>\n",
       "      <th>tags</th>\n",
       "    </tr>\n",
       "  </thead>\n",
       "  <tbody>\n",
       "    <tr>\n",
       "      <th>0</th>\n",
       "      <td>1</td>\n",
       "      <td>Toy Story (1995)</td>\n",
       "      <td>Adventure|Animation|Children|Comedy|Fantasy</td>\n",
       "      <td>pixar,pixar,fun</td>\n",
       "    </tr>\n",
       "    <tr>\n",
       "      <th>1</th>\n",
       "      <td>2</td>\n",
       "      <td>Jumanji (1995)</td>\n",
       "      <td>Adventure|Children|Fantasy</td>\n",
       "      <td>fantasy,magic board game,Robin Williams,game</td>\n",
       "    </tr>\n",
       "    <tr>\n",
       "      <th>2</th>\n",
       "      <td>3</td>\n",
       "      <td>Grumpier Old Men (1995)</td>\n",
       "      <td>Comedy|Romance</td>\n",
       "      <td>moldy,old</td>\n",
       "    </tr>\n",
       "    <tr>\n",
       "      <th>3</th>\n",
       "      <td>5</td>\n",
       "      <td>Father of the Bride Part II (1995)</td>\n",
       "      <td>Comedy</td>\n",
       "      <td>pregnancy,remake</td>\n",
       "    </tr>\n",
       "    <tr>\n",
       "      <th>4</th>\n",
       "      <td>7</td>\n",
       "      <td>Sabrina (1995)</td>\n",
       "      <td>Comedy|Romance</td>\n",
       "      <td>remake</td>\n",
       "    </tr>\n",
       "  </tbody>\n",
       "</table>\n",
       "</div>"
      ],
      "text/plain": [
       "   movieId                               title  \\\n",
       "0        1                    Toy Story (1995)   \n",
       "1        2                      Jumanji (1995)   \n",
       "2        3             Grumpier Old Men (1995)   \n",
       "3        5  Father of the Bride Part II (1995)   \n",
       "4        7                      Sabrina (1995)   \n",
       "\n",
       "                                        genres  \\\n",
       "0  Adventure|Animation|Children|Comedy|Fantasy   \n",
       "1                   Adventure|Children|Fantasy   \n",
       "2                               Comedy|Romance   \n",
       "3                                       Comedy   \n",
       "4                               Comedy|Romance   \n",
       "\n",
       "                                           tags  \n",
       "0                               pixar,pixar,fun  \n",
       "1  fantasy,magic board game,Robin Williams,game  \n",
       "2                                     moldy,old  \n",
       "3                              pregnancy,remake  \n",
       "4                                        remake  "
      ]
     },
     "execution_count": 47,
     "metadata": {},
     "output_type": "execute_result"
    }
   ],
   "source": [
    "# Combine the tags to genres\n",
    "genres_tags_df = pd.merge( genres_tags_df, grouped_tags, on='movieId',how='inner' )\n",
    "genres_tags_df.head()"
   ]
  },
  {
   "cell_type": "code",
   "execution_count": 48,
   "metadata": {
    "ExecuteTime": {
     "end_time": "2021-09-08T03:14:21.464161Z",
     "start_time": "2021-09-08T03:14:21.448540Z"
    }
   },
   "outputs": [
    {
     "data": {
      "text/plain": [
       "0                         [Toy Story, 1995)]\n",
       "1                           [Jumanji, 1995)]\n",
       "2                  [Grumpier Old Men, 1995)]\n",
       "3       [Father of the Bride Part II, 1995)]\n",
       "4                           [Sabrina, 1995)]\n",
       "                        ...                 \n",
       "1567                     [Game Night, 2018)]\n",
       "1568                    [Tomb Raider, 2018)]\n",
       "1569                     [Deadpool 2, 2018)]\n",
       "1570        [Solo: A Star Wars Story, 2018)]\n",
       "1571             [Gintama: The Movie, 2010)]\n",
       "Name: title, Length: 1572, dtype: object"
      ]
     },
     "execution_count": 48,
     "metadata": {},
     "output_type": "execute_result"
    }
   ],
   "source": [
    "genres_tags_df.title.map(lambda x: x.split(' ('))"
   ]
  },
  {
   "cell_type": "code",
   "execution_count": 49,
   "metadata": {
    "ExecuteTime": {
     "end_time": "2021-09-08T03:14:21.494980Z",
     "start_time": "2021-09-08T03:14:21.464161Z"
    }
   },
   "outputs": [
    {
     "data": {
      "text/html": [
       "<div>\n",
       "<style scoped>\n",
       "    .dataframe tbody tr th:only-of-type {\n",
       "        vertical-align: middle;\n",
       "    }\n",
       "\n",
       "    .dataframe tbody tr th {\n",
       "        vertical-align: top;\n",
       "    }\n",
       "\n",
       "    .dataframe thead th {\n",
       "        text-align: right;\n",
       "    }\n",
       "</style>\n",
       "<table border=\"1\" class=\"dataframe\">\n",
       "  <thead>\n",
       "    <tr style=\"text-align: right;\">\n",
       "      <th></th>\n",
       "      <th>movieId</th>\n",
       "      <th>title</th>\n",
       "      <th>genres</th>\n",
       "      <th>tags</th>\n",
       "      <th>movie_document</th>\n",
       "    </tr>\n",
       "  </thead>\n",
       "  <tbody>\n",
       "    <tr>\n",
       "      <th>0</th>\n",
       "      <td>1</td>\n",
       "      <td>Toy Story</td>\n",
       "      <td>Adventure Animation Children Comedy Fantasy</td>\n",
       "      <td>pixar pixar fun</td>\n",
       "      <td>Adventure Animation Children Comedy Fantasy pi...</td>\n",
       "    </tr>\n",
       "    <tr>\n",
       "      <th>1</th>\n",
       "      <td>2</td>\n",
       "      <td>Jumanji</td>\n",
       "      <td>Adventure Children Fantasy</td>\n",
       "      <td>fantasy magic board game Robin Williams game</td>\n",
       "      <td>Adventure Children Fantasy fantasy magic board...</td>\n",
       "    </tr>\n",
       "    <tr>\n",
       "      <th>2</th>\n",
       "      <td>3</td>\n",
       "      <td>Grumpier Old Men</td>\n",
       "      <td>Comedy Romance</td>\n",
       "      <td>moldy old</td>\n",
       "      <td>Comedy Romance moldy old</td>\n",
       "    </tr>\n",
       "    <tr>\n",
       "      <th>3</th>\n",
       "      <td>5</td>\n",
       "      <td>Father of the Bride Part II</td>\n",
       "      <td>Comedy</td>\n",
       "      <td>pregnancy remake</td>\n",
       "      <td>Comedy pregnancy remake</td>\n",
       "    </tr>\n",
       "    <tr>\n",
       "      <th>4</th>\n",
       "      <td>7</td>\n",
       "      <td>Sabrina</td>\n",
       "      <td>Comedy Romance</td>\n",
       "      <td>remake</td>\n",
       "      <td>Comedy Romance remake</td>\n",
       "    </tr>\n",
       "  </tbody>\n",
       "</table>\n",
       "</div>"
      ],
      "text/plain": [
       "   movieId                        title  \\\n",
       "0        1                    Toy Story   \n",
       "1        2                      Jumanji   \n",
       "2        3             Grumpier Old Men   \n",
       "3        5  Father of the Bride Part II   \n",
       "4        7                      Sabrina   \n",
       "\n",
       "                                        genres  \\\n",
       "0  Adventure Animation Children Comedy Fantasy   \n",
       "1                   Adventure Children Fantasy   \n",
       "2                               Comedy Romance   \n",
       "3                                       Comedy   \n",
       "4                               Comedy Romance   \n",
       "\n",
       "                                           tags  \\\n",
       "0                               pixar pixar fun   \n",
       "1  fantasy magic board game Robin Williams game   \n",
       "2                                     moldy old   \n",
       "3                              pregnancy remake   \n",
       "4                                        remake   \n",
       "\n",
       "                                      movie_document  \n",
       "0  Adventure Animation Children Comedy Fantasy pi...  \n",
       "1  Adventure Children Fantasy fantasy magic board...  \n",
       "2                           Comedy Romance moldy old  \n",
       "3                            Comedy pregnancy remake  \n",
       "4                              Comedy Romance remake  "
      ]
     },
     "execution_count": 49,
     "metadata": {},
     "output_type": "execute_result"
    }
   ],
   "source": [
    "# Remove the year from the title string\n",
    "genres_tags_df['title'] = genres_tags_df['title'].map(lambda x: x.split(' (')[0])\n",
    "\n",
    "# Clean genres and tags column and create new document column\n",
    "genres_tags_df['genres'] = genres_tags_df['genres'].map(lambda x: x.replace('|',' '))\n",
    "\n",
    "genres_tags_df['tags'] = genres_tags_df['tags'].map(lambda x: x.replace(',',' '))\n",
    "\n",
    "genres_tags_df['movie_document'] = genres_tags_df['genres']+' '+genres_tags_df['tags']\n",
    "\n",
    "genres_tags_df.head()"
   ]
  },
  {
   "cell_type": "code",
   "execution_count": 50,
   "metadata": {
    "ExecuteTime": {
     "end_time": "2021-09-08T03:14:21.544357Z",
     "start_time": "2021-09-08T03:14:21.497168Z"
    }
   },
   "outputs": [
    {
     "data": {
      "text/plain": [
       "(1572, 1748)"
      ]
     },
     "execution_count": 50,
     "metadata": {},
     "output_type": "execute_result"
    }
   ],
   "source": [
    "# Instantiate TfidfVectorizer\n",
    "tfidf = TfidfVectorizer()\n",
    "\n",
    "# Create tfidf matrix from newly created movie_document column\n",
    "tfidf_matrix = tfidf.fit_transform(genres_tags_df['movie_document'])\n",
    "\n",
    "# Check out shapre of matrix\n",
    "tfidf_matrix.shape"
   ]
  },
  {
   "cell_type": "code",
   "execution_count": 51,
   "metadata": {
    "ExecuteTime": {
     "end_time": "2021-09-08T03:14:21.577441Z",
     "start_time": "2021-09-08T03:14:21.546360Z"
    }
   },
   "outputs": [],
   "source": [
    "# Compute the cosine similarity matrix using linear_kernel\n",
    "movie_cosine_sim = linear_kernel(tfidf_matrix, tfidf_matrix)"
   ]
  },
  {
   "cell_type": "code",
   "execution_count": 52,
   "metadata": {
    "ExecuteTime": {
     "end_time": "2021-09-08T03:14:21.592476Z",
     "start_time": "2021-09-08T03:14:21.581447Z"
    }
   },
   "outputs": [],
   "source": [
    "# Create mapping of indices to titles for sorting of movie cosine sim given a movie title\n",
    "indices = pd.Series(genres_tags_df.index, index=genres_tags_df['title']).drop_duplicates()"
   ]
  },
  {
   "cell_type": "code",
   "execution_count": 53,
   "metadata": {
    "ExecuteTime": {
     "end_time": "2021-09-08T03:14:21.611453Z",
     "start_time": "2021-09-08T03:14:21.594443Z"
    }
   },
   "outputs": [],
   "source": [
    "def content_rec_model(movie_title, movie_cosine_sim=movie_cosine_sim, genres_tags_df=genres_tags_df, indices=indices):\n",
    "    # Obtain the index of the movie that matches the movie_title\n",
    "    idx = indices[movie_title]\n",
    "\n",
    "    # Get the pairwsie similarity scores of all movies with that movie\n",
    "    sim_scores = list(enumerate(movie_cosine_sim[idx]))\n",
    "\n",
    "    # Sort the movies based on the cosine similarity scores\n",
    "    sim_scores = sorted(sim_scores, key=lambda x: x[1], reverse=True)\n",
    "\n",
    "    # Get the scores of the 10 most similar movies. Ignore the first movie.\n",
    "    sim_scores = sim_scores[1:11]\n",
    "\n",
    "    # Get the movie indices\n",
    "    movie_indices = [i[0] for i in sim_scores]\n",
    "\n",
    "    # Return the top 10 most similar movies\n",
    "    return genres_tags_df['title'].iloc[movie_indices]"
   ]
  },
  {
   "cell_type": "code",
   "execution_count": 54,
   "metadata": {
    "ExecuteTime": {
     "end_time": "2021-09-08T03:14:21.626513Z",
     "start_time": "2021-09-08T03:14:21.614459Z"
    }
   },
   "outputs": [
    {
     "data": {
      "text/plain": [
       "544                        Bug's Life, A\n",
       "666                          Toy Story 2\n",
       "1427                                  Up\n",
       "1444                              Sintel\n",
       "1524           Guardians of the Galaxy 2\n",
       "1281                    Cat Returns, The\n",
       "1274             Kiki's Delivery Service\n",
       "248                  Alice in Wonderland\n",
       "1033    Sinbad: Legend of the Seven Seas\n",
       "643             Who Framed Roger Rabbit?\n",
       "Name: title, dtype: object"
      ]
     },
     "execution_count": 54,
     "metadata": {},
     "output_type": "execute_result"
    }
   ],
   "source": [
    "# Get top 10 content based recommendations from a given title -- 'Toy Story'\n",
    "content_rec_model('Toy Story')"
   ]
  },
  {
   "cell_type": "markdown",
   "metadata": {},
   "source": [
    "Given an input of the *Toy Story* movie, we are able to observe that 6 out of 10 of the most similar movies are in fact Disney movies. The top 3 movies found most similar to *Toy Story* are also found to be a part of Pixar studios. If a user is watching or have watched *Toy Story*, they may have a penchant for animated movies or Disney movies in general. For either reason, the our content based model may not accurately capture those preferences.\n",
    "\n",
    "In our hybrid model, we will aim to incorporate movies our user have rated in the past to tune the recommendations and deliver a clear line between a preference for Disney movies, animated movies, or something else."
   ]
  },
  {
   "cell_type": "markdown",
   "metadata": {},
   "source": [
    "# Hybrid Model\n",
    "In this approach, we will use both out content based filtering model, as well as our collaborative filter model to\n",
    "1. Take in a movie title, and a user id as input\n",
    "2. Use the content based filter to output X top movies, similar to the movie title\n",
    "3. Use the collaborative filter model to predict the ratings the given user may rate the top X movies"
   ]
  },
  {
   "cell_type": "code",
   "execution_count": 55,
   "metadata": {
    "ExecuteTime": {
     "end_time": "2021-09-08T03:14:21.828529Z",
     "start_time": "2021-09-08T03:14:21.628454Z"
    }
   },
   "outputs": [],
   "source": [
    "# Instantiate reader to reader load data into surprise API\n",
    "reader = Reader()\n",
    "\n",
    "# Load previously preapred movieRatings_df to read as surprise dataframe object\n",
    "ratings_data = Dataset.load_from_df(movieRatings_df, reader)\n",
    "\n",
    "# Create training set from ratings_data\n",
    "movie_trainset = ratings_data.build_full_trainset()"
   ]
  },
  {
   "cell_type": "code",
   "execution_count": 56,
   "metadata": {
    "ExecuteTime": {
     "end_time": "2021-09-08T03:14:22.779412Z",
     "start_time": "2021-09-08T03:14:21.829464Z"
    },
    "scrolled": true
   },
   "outputs": [
    {
     "data": {
      "text/plain": [
       "<surprise.prediction_algorithms.matrix_factorization.SVD at 0x23ff7d1f820>"
      ]
     },
     "execution_count": 56,
     "metadata": {},
     "output_type": "execute_result"
    }
   ],
   "source": [
    "# Use svd model and params determined during grid search exercise\n",
    "svd_hybrid = SVD(n_factors=20, n_epochs=10, lr_all=0.005, reg_all=0.4)\n",
    "\n",
    "# Fit on ratings data defined above\n",
    "svd_hybrid.fit(movie_trainset)"
   ]
  },
  {
   "cell_type": "code",
   "execution_count": 80,
   "metadata": {
    "ExecuteTime": {
     "end_time": "2021-09-08T03:53:36.869980Z",
     "start_time": "2021-09-08T03:53:36.844844Z"
    }
   },
   "outputs": [],
   "source": [
    "def hybrid_model(userid, movie_title, top_n):\n",
    "    # Use indices movie title mapping\n",
    "    idx = indices[movie_title]\n",
    "    \n",
    "    # Retrieve movieId using movie_title\n",
    "    movieid = genres_tags_df[genres_tags_df['title']==movie_title]['movieId'].item()\n",
    "    \n",
    "    # Get the pairwsie similarity scores of all movies with that movie\n",
    "    sim_scores = list(enumerate(movie_cosine_sim[idx]))\n",
    "    \n",
    "    # Sort the movies based on the cosine similarity scores\n",
    "    sim_scores = sorted(sim_scores, key=lambda x: x[1], reverse=True)\n",
    "\n",
    "    # Get the scores of the top_n most similar movies\n",
    "    sim_scores = sim_scores[1:top_n+1]\n",
    "    \n",
    "    # Store the cosine_sim indices of the top_n movies in a list\n",
    "    movie_indices = [i[0] for i in sim_scores]\n",
    "\n",
    "    # Filter for top_n movies most similar (defined by movie_indices)\n",
    "    movies_rec = genres_tags_df.iloc[movie_indices]\n",
    "    \n",
    "    # Get predicted ratings, access predicted rating at index 3\n",
    "    movies_rec['predict'] = movies_rec['movieId'].map(lambda x: svd_hybrid.predict(x, userid)[3])\n",
    "    \n",
    "    # Sort movies in descending order according to predicted rating value\n",
    "    movies_rec = movies_rec.sort_values('predict', ascending=False)\n",
    "    \n",
    "    # Return the top 10 movie recs\n",
    "    return movies_rec[['title','predict']].head(10)"
   ]
  },
  {
   "cell_type": "code",
   "execution_count": 115,
   "metadata": {
    "ExecuteTime": {
     "end_time": "2021-09-08T04:30:11.596553Z",
     "start_time": "2021-09-08T04:30:11.563612Z"
    }
   },
   "outputs": [
    {
     "data": {
      "text/html": [
       "<div>\n",
       "<style scoped>\n",
       "    .dataframe tbody tr th:only-of-type {\n",
       "        vertical-align: middle;\n",
       "    }\n",
       "\n",
       "    .dataframe tbody tr th {\n",
       "        vertical-align: top;\n",
       "    }\n",
       "\n",
       "    .dataframe thead th {\n",
       "        text-align: right;\n",
       "    }\n",
       "</style>\n",
       "<table border=\"1\" class=\"dataframe\">\n",
       "  <thead>\n",
       "    <tr style=\"text-align: right;\">\n",
       "      <th></th>\n",
       "      <th>title</th>\n",
       "      <th>predict</th>\n",
       "    </tr>\n",
       "  </thead>\n",
       "  <tbody>\n",
       "    <tr>\n",
       "      <th>922</th>\n",
       "      <td>Spirited Away</td>\n",
       "      <td>4.569530</td>\n",
       "    </tr>\n",
       "    <tr>\n",
       "      <th>1427</th>\n",
       "      <td>Up</td>\n",
       "      <td>4.467934</td>\n",
       "    </tr>\n",
       "    <tr>\n",
       "      <th>1011</th>\n",
       "      <td>Laputa: Castle in the Sky</td>\n",
       "      <td>4.464766</td>\n",
       "    </tr>\n",
       "    <tr>\n",
       "      <th>613</th>\n",
       "      <td>Iron Giant, The</td>\n",
       "      <td>4.434395</td>\n",
       "    </tr>\n",
       "    <tr>\n",
       "      <th>947</th>\n",
       "      <td>My Neighbor Totoro</td>\n",
       "      <td>4.412023</td>\n",
       "    </tr>\n",
       "    <tr>\n",
       "      <th>812</th>\n",
       "      <td>Shrek</td>\n",
       "      <td>4.379998</td>\n",
       "    </tr>\n",
       "    <tr>\n",
       "      <th>666</th>\n",
       "      <td>Toy Story 2</td>\n",
       "      <td>4.358061</td>\n",
       "    </tr>\n",
       "    <tr>\n",
       "      <th>1274</th>\n",
       "      <td>Kiki's Delivery Service</td>\n",
       "      <td>4.352397</td>\n",
       "    </tr>\n",
       "    <tr>\n",
       "      <th>1524</th>\n",
       "      <td>Guardians of the Galaxy 2</td>\n",
       "      <td>4.325302</td>\n",
       "    </tr>\n",
       "    <tr>\n",
       "      <th>1497</th>\n",
       "      <td>The Lego Movie</td>\n",
       "      <td>4.320881</td>\n",
       "    </tr>\n",
       "  </tbody>\n",
       "</table>\n",
       "</div>"
      ],
      "text/plain": [
       "                          title   predict\n",
       "922               Spirited Away  4.569530\n",
       "1427                         Up  4.467934\n",
       "1011  Laputa: Castle in the Sky  4.464766\n",
       "613             Iron Giant, The  4.434395\n",
       "947          My Neighbor Totoro  4.412023\n",
       "812                       Shrek  4.379998\n",
       "666                 Toy Story 2  4.358061\n",
       "1274    Kiki's Delivery Service  4.352397\n",
       "1524  Guardians of the Galaxy 2  4.325302\n",
       "1497             The Lego Movie  4.320881"
      ]
     },
     "execution_count": 115,
     "metadata": {},
     "output_type": "execute_result"
    }
   ],
   "source": [
    "hybrid_model(1,'Toy Story',30)"
   ]
  },
  {
   "cell_type": "code",
   "execution_count": 114,
   "metadata": {
    "ExecuteTime": {
     "end_time": "2021-09-08T04:30:08.193315Z",
     "start_time": "2021-09-08T04:30:08.148076Z"
    }
   },
   "outputs": [
    {
     "data": {
      "text/html": [
       "<div>\n",
       "<style scoped>\n",
       "    .dataframe tbody tr th:only-of-type {\n",
       "        vertical-align: middle;\n",
       "    }\n",
       "\n",
       "    .dataframe tbody tr th {\n",
       "        vertical-align: top;\n",
       "    }\n",
       "\n",
       "    .dataframe thead th {\n",
       "        text-align: right;\n",
       "    }\n",
       "</style>\n",
       "<table border=\"1\" class=\"dataframe\">\n",
       "  <thead>\n",
       "    <tr style=\"text-align: right;\">\n",
       "      <th></th>\n",
       "      <th>title</th>\n",
       "      <th>predict</th>\n",
       "    </tr>\n",
       "  </thead>\n",
       "  <tbody>\n",
       "    <tr>\n",
       "      <th>922</th>\n",
       "      <td>Spirited Away</td>\n",
       "      <td>3.116303</td>\n",
       "    </tr>\n",
       "    <tr>\n",
       "      <th>1427</th>\n",
       "      <td>Up</td>\n",
       "      <td>3.015371</td>\n",
       "    </tr>\n",
       "    <tr>\n",
       "      <th>1011</th>\n",
       "      <td>Laputa: Castle in the Sky</td>\n",
       "      <td>3.012288</td>\n",
       "    </tr>\n",
       "    <tr>\n",
       "      <th>613</th>\n",
       "      <td>Iron Giant, The</td>\n",
       "      <td>2.982639</td>\n",
       "    </tr>\n",
       "    <tr>\n",
       "      <th>947</th>\n",
       "      <td>My Neighbor Totoro</td>\n",
       "      <td>2.960604</td>\n",
       "    </tr>\n",
       "    <tr>\n",
       "      <th>812</th>\n",
       "      <td>Shrek</td>\n",
       "      <td>2.927080</td>\n",
       "    </tr>\n",
       "    <tr>\n",
       "      <th>666</th>\n",
       "      <td>Toy Story 2</td>\n",
       "      <td>2.905760</td>\n",
       "    </tr>\n",
       "    <tr>\n",
       "      <th>1274</th>\n",
       "      <td>Kiki's Delivery Service</td>\n",
       "      <td>2.905352</td>\n",
       "    </tr>\n",
       "    <tr>\n",
       "      <th>1524</th>\n",
       "      <td>Guardians of the Galaxy 2</td>\n",
       "      <td>2.881467</td>\n",
       "    </tr>\n",
       "    <tr>\n",
       "      <th>1497</th>\n",
       "      <td>The Lego Movie</td>\n",
       "      <td>2.871004</td>\n",
       "    </tr>\n",
       "  </tbody>\n",
       "</table>\n",
       "</div>"
      ],
      "text/plain": [
       "                          title   predict\n",
       "922               Spirited Away  3.116303\n",
       "1427                         Up  3.015371\n",
       "1011  Laputa: Castle in the Sky  3.012288\n",
       "613             Iron Giant, The  2.982639\n",
       "947          My Neighbor Totoro  2.960604\n",
       "812                       Shrek  2.927080\n",
       "666                 Toy Story 2  2.905760\n",
       "1274    Kiki's Delivery Service  2.905352\n",
       "1524  Guardians of the Galaxy 2  2.881467\n",
       "1497             The Lego Movie  2.871004"
      ]
     },
     "execution_count": 114,
     "metadata": {},
     "output_type": "execute_result"
    }
   ],
   "source": [
    "hybrid_model(448,'Toy Story',30)"
   ]
  },
  {
   "cell_type": "markdown",
   "metadata": {},
   "source": [
    "Based on the predicted ratings between user ID 1 and user ID 488 -- it is apparent that user 1 has a higher preference for the movies found similar to *Toy Story* compared to user 448. For the top 10 movies most similar to *Toy Story*, user 1 rated the movies with an average 1.5 higher than user 448.\n",
    "\n",
    "In the case for user 1, they may be watching *Toy Story* and given their higher ratings for similar movies, the content based model may be appropriate to serve a new movie recommendation. On the other hand, for user 448, while they did watch *Toy Story*, they rated the other similar movies lower. One could assume in addition to *Toy Story*, user 448 may have other genres they are interested in, therefore we may want to rely on collaborative filtering to identify similar users and recommend movies they like, and user 448 have not watched. Between both users, we are able to employ content and collaborative filter models to serve a recommendation."
   ]
  }
 ],
 "metadata": {
  "kernelspec": {
   "display_name": "learn-env",
   "language": "python",
   "name": "learn-env"
  },
  "language_info": {
   "codemirror_mode": {
    "name": "ipython",
    "version": 3
   },
   "file_extension": ".py",
   "mimetype": "text/x-python",
   "name": "python",
   "nbconvert_exporter": "python",
   "pygments_lexer": "ipython3",
   "version": "3.8.5"
  },
  "toc": {
   "base_numbering": 1,
   "nav_menu": {},
   "number_sections": true,
   "sideBar": true,
   "skip_h1_title": false,
   "title_cell": "Table of Contents",
   "title_sidebar": "Contents",
   "toc_cell": false,
   "toc_position": {
    "height": "calc(100% - 180px)",
    "left": "10px",
    "top": "150px",
    "width": "298px"
   },
   "toc_section_display": true,
   "toc_window_display": true
  },
  "varInspector": {
   "cols": {
    "lenName": 16,
    "lenType": 16,
    "lenVar": 40
   },
   "kernels_config": {
    "python": {
     "delete_cmd_postfix": "",
     "delete_cmd_prefix": "del ",
     "library": "var_list.py",
     "varRefreshCmd": "print(var_dic_list())"
    },
    "r": {
     "delete_cmd_postfix": ") ",
     "delete_cmd_prefix": "rm(",
     "library": "var_list.r",
     "varRefreshCmd": "cat(var_dic_list()) "
    }
   },
   "types_to_exclude": [
    "module",
    "function",
    "builtin_function_or_method",
    "instance",
    "_Feature"
   ],
   "window_display": false
  }
 },
 "nbformat": 4,
 "nbformat_minor": 4
}
